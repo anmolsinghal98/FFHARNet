{
  "nbformat": 4,
  "nbformat_minor": 0,
  "metadata": {
    "colab": {
      "name": "IP_Features.ipynb",
      "provenance": [],
      "toc_visible": true
    },
    "kernelspec": {
      "name": "python3",
      "display_name": "Python 3"
    }
  },
  "cells": [
    {
      "cell_type": "code",
      "metadata": {
        "id": "HXmnVLFL7MNo"
      },
      "source": [
        "import pandas as pd\n",
        "import numpy\n",
        "from sklearn.feature_selection import *"
      ],
      "execution_count": null,
      "outputs": []
    },
    {
      "cell_type": "markdown",
      "metadata": {
        "id": "XPLMY2nW7RNs"
      },
      "source": [
        "# Data Processing"
      ]
    },
    {
      "cell_type": "code",
      "metadata": {
        "id": "lJeZ9QSp7s6q"
      },
      "source": [
        "data = pd.read_csv(\"DataTulum.csv\", header=None)"
      ],
      "execution_count": null,
      "outputs": []
    },
    {
      "cell_type": "code",
      "metadata": {
        "id": "_MKyivC674-Q"
      },
      "source": [
        "hour = []\n",
        "minute = []\n",
        "time = []\n",
        "day = data[1].to_numpy()\n",
        "location = data[3].to_numpy()\n",
        "prevAct = data[4].to_numpy()\n",
        "for i in data[2]:\n",
        "  t = i\n",
        "  ind = t.find(\":\")\n",
        "  h = int(t[:ind])\n",
        "  m = int(t[ind+1:ind+3])\n",
        "  hour.append(h)\n",
        "  minute.append(m)\n",
        "  time.append(h*60+m)\n",
        "hour = numpy.array(hour)\n",
        "minute = numpy.array(minute)\n",
        "time = numpy.array(time)"
      ],
      "execution_count": null,
      "outputs": []
    },
    {
      "cell_type": "code",
      "metadata": {
        "colab": {
          "base_uri": "https://localhost:8080/"
        },
        "id": "83-TQCJ377eB",
        "outputId": "55fa8ec9-b345-4471-c291-944cbb153ab2"
      },
      "source": [
        "print(hour.shape,minute.shape,time.shape,day.shape,location.shape,prevAct.shape)"
      ],
      "execution_count": null,
      "outputs": [
        {
          "output_type": "stream",
          "text": [
            "(25275,) (25275,) (25275,) (25275,) (25275,) (25275,)\n"
          ],
          "name": "stdout"
        }
      ]
    },
    {
      "cell_type": "code",
      "metadata": {
        "id": "bdaffgXf9oMw"
      },
      "source": [
        "l = len(day)\n",
        "day = day[1:].reshape((l-1,1))\n",
        "hour = hour[1:].reshape((l-1,1))\n",
        "minute = minute[1:].reshape((l-1,1))\n",
        "time = time[1:].reshape((l-1,1))\n",
        "location = location[1:].reshape((l-1,1))\n",
        "prevAct = prevAct[:-1].reshape((l-1,1))"
      ],
      "execution_count": null,
      "outputs": []
    },
    {
      "cell_type": "code",
      "metadata": {
        "colab": {
          "base_uri": "https://localhost:8080/"
        },
        "id": "b-IJ_OMo-IxV",
        "outputId": "1d0b2f40-e592-4b0b-e4fc-88ab13c883d3"
      },
      "source": [
        "print(hour.shape,minute.shape,time.shape,day.shape,location.shape,prevAct.shape)"
      ],
      "execution_count": null,
      "outputs": [
        {
          "output_type": "stream",
          "text": [
            "(25274, 1) (25274, 1) (25274, 1) (25274, 1) (25274, 1) (25274, 1)\n"
          ],
          "name": "stdout"
        }
      ]
    },
    {
      "cell_type": "code",
      "metadata": {
        "id": "pYsc7hYFGA9H"
      },
      "source": [
        "arrays = [day,location,prevAct]\n",
        "arr = []\n",
        "for ar in arrays:\n",
        "  dic = {}\n",
        "  ind = 0\n",
        "  temp = []\n",
        "  for ii in ar:\n",
        "    i = ii.item(0)\n",
        "    if i not in dic:\n",
        "      dic[i] = ind\n",
        "      ind += 1\n",
        "    temp.append(dic[i])\n",
        "  arr.append(temp)\n",
        "day = numpy.array(arr[0]).reshape((l-1,1))\n",
        "location = numpy.array(arr[1]).reshape((l-1,1))\n",
        "prevAct = numpy.array(arr[2]).reshape((l-1,1))"
      ],
      "execution_count": null,
      "outputs": []
    },
    {
      "cell_type": "code",
      "metadata": {
        "id": "qr0i13YW-KDs"
      },
      "source": [
        "X = numpy.concatenate((day,hour,minute,time,location,prevAct),axis = 1)\n",
        "Y = data[4].to_numpy()\n",
        "Y = Y[1:]"
      ],
      "execution_count": null,
      "outputs": []
    },
    {
      "cell_type": "code",
      "metadata": {
        "colab": {
          "base_uri": "https://localhost:8080/"
        },
        "id": "LE1EtQjN-slt",
        "outputId": "79a99a6c-98d8-4583-a960-2c882d628718"
      },
      "source": [
        "print(X.shape,Y.shape)"
      ],
      "execution_count": null,
      "outputs": [
        {
          "output_type": "stream",
          "text": [
            "(25274, 6) (25274,)\n"
          ],
          "name": "stdout"
        }
      ]
    },
    {
      "cell_type": "markdown",
      "metadata": {
        "id": "TrdApVh3_L28"
      },
      "source": [
        "# Tests"
      ]
    },
    {
      "cell_type": "code",
      "metadata": {
        "colab": {
          "base_uri": "https://localhost:8080/"
        },
        "id": "qxzy25RV-t05",
        "outputId": "7babf28a-2698-4234-afe4-1ed915398b84"
      },
      "source": [
        "# Aruba\n",
        "# (day,hour,minute,time,location,prevAct)\n",
        "print(chi2(X,Y))\n",
        "print(f_classif(X,Y))"
      ],
      "execution_count": null,
      "outputs": [
        {
          "output_type": "stream",
          "text": [
            "(array([4.16423308e+01, 6.14142349e+03, 3.95769847e+02, 3.54914516e+05,\n",
            "       9.48729070e+03, 2.25035906e+04]), array([4.66526000e-03, 0.00000000e+00, 6.95833596e-71, 0.00000000e+00,\n",
            "       0.00000000e+00, 0.00000000e+00]))\n",
            "(array([   1.50837343,  159.4739641 ,    1.88818603,  159.21038017,\n",
            "       1158.33859439, 1205.46170339]), array([0.06334855, 0.        , 0.008268  , 0.        , 0.        ,\n",
            "       0.        ]))\n"
          ],
          "name": "stdout"
        }
      ]
    },
    {
      "cell_type": "code",
      "metadata": {
        "id": "PjgdDxNG_aYZ",
        "colab": {
          "base_uri": "https://localhost:8080/"
        },
        "outputId": "cd0eab34-8190-4ea4-90f2-2548f8a4e1a5"
      },
      "source": [
        "# Milan\n",
        "# (day,hour,minute,time,location,prevAct)\n",
        "print(chi2(X,Y))\n",
        "print(f_classif(X,Y))"
      ],
      "execution_count": null,
      "outputs": [
        {
          "output_type": "stream",
          "text": [
            "(array([   46.6711462 ,   193.25735989,   230.14265687, 11386.40353041,\n",
            "        1716.65142734,   984.50506241]), array([5.35963507e-003, 6.04717331e-028, 4.31844246e-035, 0.00000000e+000,\n",
            "       0.00000000e+000, 1.12622361e-191]))\n",
            "(array([ 1.32112074,  4.3980824 ,  0.98499496,  4.47526489, 21.54412875,\n",
            "       28.69440225]), array([1.38442354e-01, 3.33741875e-11, 4.85761734e-01, 1.77719751e-11,\n",
            "       8.55659027e-64, 2.10593628e-80]))\n"
          ],
          "name": "stdout"
        }
      ]
    },
    {
      "cell_type": "code",
      "metadata": {
        "colab": {
          "base_uri": "https://localhost:8080/"
        },
        "id": "yrbFNYdbK1lC",
        "outputId": "bd69e8f1-748f-47d3-b36e-d13353b8aa6c"
      },
      "source": [
        "# Tulum\n",
        "# (day,hour,minute,time,location,prevAct)\n",
        "print(chi2(X,Y))\n",
        "print(f_classif(X,Y))"
      ],
      "execution_count": null,
      "outputs": [
        {
          "output_type": "stream",
          "text": [
            "(array([   425.18686467,   7170.25616938,    469.98908198, 414065.22190534,\n",
            "        89377.76242057,  54231.07209077]), array([1.16521777e-69, 0.00000000e+00, 1.02068451e-78, 0.00000000e+00,\n",
            "       0.00000000e+00, 0.00000000e+00]))\n",
            "(array([ 10.7443796 , 126.89690173,   1.39653535, 124.86308018,\n",
            "       723.45668641, 622.02875947]), array([4.28727262e-55, 0.00000000e+00, 6.48839000e-02, 0.00000000e+00,\n",
            "       0.00000000e+00, 0.00000000e+00]))\n"
          ],
          "name": "stdout"
        }
      ]
    },
    {
      "cell_type": "code",
      "metadata": {
        "id": "8fZ6_U25K9yc"
      },
      "source": [
        ""
      ],
      "execution_count": null,
      "outputs": []
    }
  ]
}