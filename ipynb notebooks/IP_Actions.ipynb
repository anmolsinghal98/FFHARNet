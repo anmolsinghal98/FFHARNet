{
  "nbformat": 4,
  "nbformat_minor": 0,
  "metadata": {
    "colab": {
      "name": "IP_Actions.ipynb",
      "provenance": [],
      "collapsed_sections": []
    },
    "kernelspec": {
      "name": "python3",
      "display_name": "Python 3"
    },
    "accelerator": "GPU"
  },
  "cells": [
    {
      "cell_type": "code",
      "metadata": {
        "id": "p9ZjfzHrzQ1m",
        "colab": {
          "base_uri": "https://localhost:8080/"
        },
        "outputId": "80bb1773-0a92-4e9c-defe-69586ef53b1c"
      },
      "source": [
        "from google.colab import drive\n",
        "drive.mount('/content/drive')"
      ],
      "execution_count": null,
      "outputs": [
        {
          "output_type": "stream",
          "text": [
            "Mounted at /content/drive\n"
          ],
          "name": "stdout"
        }
      ]
    },
    {
      "cell_type": "markdown",
      "metadata": {
        "id": "eaJhzuSE6ozP"
      },
      "source": [
        "# Data Processing Aruba\n",
        "\n"
      ]
    },
    {
      "cell_type": "code",
      "metadata": {
        "id": "Dtj7pS7E68CD"
      },
      "source": [
        "import pandas as pd\n",
        "import numpy"
      ],
      "execution_count": null,
      "outputs": []
    },
    {
      "cell_type": "code",
      "metadata": {
        "id": "oYlcF37n6_Y8"
      },
      "source": [
        "path = \"/content/drive/My Drive/IP Data/data\"\n",
        "f = open(path)\n",
        "f = f.read().split(\"\\n\")\n",
        "st = \"Meal_Preparation Relax Eating Work Sleeping Wash_Dishes Bed_to_Toilet Enter_Home Leave_Home Housekeeping Resperate\".split(\" \")"
      ],
      "execution_count": null,
      "outputs": []
    },
    {
      "cell_type": "code",
      "metadata": {
        "id": "sLaWMExz6_xi",
        "colab": {
          "base_uri": "https://localhost:8080/"
        },
        "outputId": "0151478b-9537-49f8-9e80-8e7a0f6c75d3"
      },
      "source": [
        "data = []\n",
        "for i in range(len(f)):\n",
        "    dataExample = f[i]\n",
        "    \n",
        "    a = dataExample.replace('\\t', ' ').replace('\\n', ' ').split(\" \")\n",
        "    ar = []\n",
        "    for i in a:\n",
        "        if i:\n",
        "            ar.append(i)\n",
        "    if len(ar) == 4:\n",
        "        ar.append(\"NoAction\")\n",
        "    elif len(ar)>4:\n",
        "        temp = \" \".join(ar[4:])\n",
        "        ar = ar[:4] + [temp]\n",
        "    else:\n",
        "        print(i,dataExample)\n",
        "    \n",
        "    if ar != []:\n",
        "        data.append(ar)"
      ],
      "execution_count": null,
      "outputs": [
        {
          "output_type": "stream",
          "text": [
            " \n"
          ],
          "name": "stdout"
        }
      ]
    },
    {
      "cell_type": "code",
      "metadata": {
        "id": "cZhaq4-L7C-g"
      },
      "source": [
        "loc = {\n",
        "       \"T001\":\"Bedroom\",\"T002\":\"Living\",\"T003\":\"Kitchen\",\"T004\":\"Closet\",\"T005\":\"Office\",\n",
        "       \"M001\":\"Bedroom\",\"M002\":\"Bedroom\",\"M003\":\"Bedroom\",\"M004\":\"Bathroom\",\"M005\":\"Bedroom\",\n",
        "       \"M006\":\"Bedroom\",\"M007\":\"Bedroom\",\"M008\":\"Living\",\"M009\":\"Living\",\"M010\":\"Living\",\n",
        "       \"M011\":\"FrontDoor\",\"M012\":\"Living\",\"M013\":\"Living\",\"M014\":\"Dining\",\"M015\":\"Kitchen\",\n",
        "       \"M016\":\"BackDoor\",\"M017\":\"Kitchen\",\"M018\":\"Kitchen\",\"M019\":\"Kitchen\",\"M020\":\"Living\",\n",
        "       \"M021\":\"Path\",\"M022\":\"Path\",\"M023\":\"Bedroom\",\"M024\":\"Bedroom\",\"M025\":\"Office\",\n",
        "       \"M026\":\"Office\",\"M027\":\"Office\",\"M028\":\"Office\",\"M029\":\"Bathroom\",\"M030\":\"GarageDoor\",\n",
        "       \"M031\":\"Closet\",\"D001\":\"FrontDoor\",\"D002\":\"BackDoor\",\"D003\":\"Closet\",\"D004\":\"GarageDoor\"  \n",
        "      }"
      ],
      "execution_count": null,
      "outputs": []
    },
    {
      "cell_type": "code",
      "metadata": {
        "id": "brGsHMw77Dhx"
      },
      "source": [
        "for i in range(len(data)):\n",
        "    if data[i][3] == \"ON\":\n",
        "        data[i].append(loc[data[i][2]])\n",
        "    else:\n",
        "        data[i].append(data[i-1][5])"
      ],
      "execution_count": null,
      "outputs": []
    },
    {
      "cell_type": "code",
      "metadata": {
        "id": "mSnaF5z37Gzk"
      },
      "source": [
        "DataNew = []\n",
        "for i in data:\n",
        "    if i[4] != \"NoAction\":\n",
        "        DataNew.append([i[0],i[1],i[5],i[4]])\n",
        "data = DataNew"
      ],
      "execution_count": null,
      "outputs": []
    },
    {
      "cell_type": "code",
      "metadata": {
        "id": "f-MzxUKP7IMU"
      },
      "source": [
        "data = numpy.array(DataNew)\n",
        "data = pd.DataFrame(data)\n",
        "data.to_csv(\"DataAruba.csv\", index=False, header=False)"
      ],
      "execution_count": null,
      "outputs": []
    },
    {
      "cell_type": "markdown",
      "metadata": {
        "id": "1AF2BY5tcinc"
      },
      "source": [
        "# Action Model Aruba\n"
      ]
    },
    {
      "cell_type": "code",
      "metadata": {
        "id": "OF6yy1W3EFgI"
      },
      "source": [
        "import numpy\n",
        "import pandas as pd\n",
        "import keras\n",
        "\n",
        "import tensorflow as tf\n",
        "from tensorflow.keras.layers import *\n",
        "from tensorflow.keras.optimizers import *\n",
        "from tensorflow.keras.utils import to_categorical\n",
        "from tensorflow.keras.callbacks import EarlyStopping\n",
        "from tensorflow.keras.callbacks import ModelCheckpoint\n",
        "from tensorflow.keras.models import Sequential, Model, load_model\n",
        "from sklearn.metrics import classification_report, f1_score\n",
        "from tensorflow.keras import backend as K"
      ],
      "execution_count": null,
      "outputs": []
    },
    {
      "cell_type": "code",
      "metadata": {
        "id": "f5soBBPBHGB1"
      },
      "source": [
        "def to_one(arr):\n",
        "  vals = list(set(arr))\n",
        "  ar = []\n",
        "  for i in range(len(arr)):\n",
        "    ar.append(vals.index(arr[i]))\n",
        "  return to_categorical(ar),vals"
      ],
      "execution_count": null,
      "outputs": []
    },
    {
      "cell_type": "code",
      "metadata": {
        "id": "Gy3yCaYD7v8B"
      },
      "source": [
        "d = pd.read_csv(\"DataAruba.csv\", header=None).to_numpy()\n",
        "data = []\n",
        "day = []\n",
        "time = []\n",
        "hour = []\n",
        "minute = []\n",
        "loct = []\n",
        "prevAct = []\n",
        "y = []\n",
        "for i in range(1,len(d)):\n",
        "  if d[i][3] != \"NoAction\":\n",
        "    data.append( [d[i][1], d[i][2][:5], d[i][3], d[i-1][4]] )\n",
        "    t = d[i][2][:5]\n",
        "    if t[-1] == \":\":\n",
        "      t = t[:-1]\n",
        "    day.append(d[i][1])\n",
        "    time.append(t)\n",
        "    colon = t.find(':')\n",
        "    hour.append(int(t[:colon]))\n",
        "    minute.append(int(t[colon+1:]))\n",
        "    loct.append(d[i][3])\n",
        "    if len(y)==0:\n",
        "      prevAct.append(\"Sleeping begin\")\n",
        "    else:\n",
        "      prevAct.append(y[-1])\n",
        "    y.append(d[i][4])\n",
        "hour = numpy.array(hour)\n",
        "minute = numpy.array(minute)"
      ],
      "execution_count": null,
      "outputs": []
    },
    {
      "cell_type": "code",
      "metadata": {
        "colab": {
          "base_uri": "https://localhost:8080/"
        },
        "id": "ETKD8CxqDmPI",
        "outputId": "a769bc58-cc54-43b6-93bf-c8f69a2b8882"
      },
      "source": [
        "print(hour.shape)\n",
        "print(minute.shape)\n",
        "time = hour*60 + minute\n",
        "time = numpy.reshape(time,(time.shape[0],1))\n",
        "print(time.shape)"
      ],
      "execution_count": null,
      "outputs": [
        {
          "output_type": "stream",
          "text": [
            "(12953,)\n",
            "(12953,)\n",
            "(12953, 1)\n"
          ],
          "name": "stdout"
        }
      ]
    },
    {
      "cell_type": "code",
      "metadata": {
        "id": "5eMQWqCmzALd"
      },
      "source": [
        "day, _ = to_one(day)\n",
        "loct, _ = to_one(loct)\n",
        "prevAct, vals = to_one(prevAct)\n",
        "hour, _ = to_one(hour)\n",
        "minute, _ = to_one(minute)\n",
        "Y = []\n",
        "for i in range(len(y)):\n",
        "  Y.append(vals.index(y[i]))\n",
        "Y = to_categorical(Y)"
      ],
      "execution_count": null,
      "outputs": []
    },
    {
      "cell_type": "code",
      "metadata": {
        "colab": {
          "base_uri": "https://localhost:8080/"
        },
        "id": "_k31b10g73p1",
        "outputId": "24440949-73fe-43a9-e0a5-6694405e9d88"
      },
      "source": [
        "print(hour.shape)"
      ],
      "execution_count": null,
      "outputs": [
        {
          "output_type": "stream",
          "text": [
            "(12953, 24)\n"
          ],
          "name": "stdout"
        }
      ]
    },
    {
      "cell_type": "code",
      "metadata": {
        "id": "Vb9PGGkOzALk"
      },
      "source": [
        "trainEnd = 8000\n",
        "valEnd = 10000\n",
        "trainX = [day[:trainEnd],loct[:trainEnd],hour[:trainEnd],minute[:trainEnd],prevAct[:trainEnd],time[:trainEnd]]\n",
        "#trainX = [day[:trainEnd],loct[:trainEnd],hour[:trainEnd],prevAct[:trainEnd],time[:trainEnd]]\n",
        "\n",
        "trainY = Y[:trainEnd]\n",
        "valX = [day[trainEnd:valEnd],loct[trainEnd:valEnd],hour[trainEnd:valEnd],minute[trainEnd:valEnd],prevAct[trainEnd:valEnd],time[trainEnd:valEnd]]\n",
        "#valX = [day[trainEnd:valEnd],loct[trainEnd:valEnd],hour[trainEnd:valEnd],prevAct[trainEnd:valEnd],time[trainEnd:valEnd]]\n",
        "\n",
        "valY = Y[trainEnd:valEnd]\n",
        "testX = [day[valEnd:],loct[valEnd:],hour[valEnd:],minute[valEnd:],prevAct[valEnd:],time[valEnd:]]\n",
        "#testX = [day[valEnd:],loct[valEnd:],hour[valEnd:],prevAct[valEnd:],time[valEnd:]]\n",
        "\n",
        "testY = Y[valEnd:]"
      ],
      "execution_count": null,
      "outputs": []
    },
    {
      "cell_type": "code",
      "metadata": {
        "id": "-6OXUnmw-29_",
        "colab": {
          "base_uri": "https://localhost:8080/"
        },
        "outputId": "7890cb6b-c841-4017-f084-1ff38da7dc7e"
      },
      "source": [
        "print(day.shape,loct.shape,hour.shape,minute.shape,prevAct.shape,Y.shape)"
      ],
      "execution_count": null,
      "outputs": [
        {
          "output_type": "stream",
          "text": [
            "(12953, 7) (12953, 11) (12953, 24) (12953, 60) (12953, 22) (12953, 22)\n"
          ],
          "name": "stdout"
        }
      ]
    },
    {
      "cell_type": "code",
      "metadata": {
        "id": "15drM60VzALv",
        "colab": {
          "base_uri": "https://localhost:8080/"
        },
        "outputId": "952eb0ca-f5bd-4d1c-b892-71a7d4b770ba"
      },
      "source": [
        "Days = Input(shape=(7,))\n",
        "Locts = Input(shape=(11,))\n",
        "PrevActs = Input(shape=(22,))\n",
        "Hours = Input(shape=(24,))\n",
        "Minutes = Input(shape=(60,))\n",
        "Time = Input(shape=(1,))\n",
        "\n",
        "\n",
        "Day = Dense(8, activation=\"relu\", input_shape=(7,))(Days)\n",
        "\n",
        "Loct = Dense(8, activation=\"relu\", input_shape=(11,))(Locts)\n",
        "\n",
        "PrevAct = Dense(8, activation=\"relu\")(PrevActs)\n",
        "\n",
        "Hour = Dense(8, activation=\"relu\", input_shape=(24,))(Hours)\n",
        "Minute = Dense(8, activation=\"relu\", input_shape=(60,))(Minutes)\n",
        "#Time = concatenate([Hour, Minute])\n",
        "Time1 = Dense(8, activation=\"relu\", input_shape=(1,))(Time)\n",
        "\n",
        "\n",
        "X = concatenate([Day, Loct, Time1, PrevAct, Hour, Minute])\n",
        "#X = concatenate([Day, Loct, Time1, PrevAct, Hour])\n",
        "\n",
        "att = Attention()([X,X])\n",
        "print(att.shape)\n",
        "\n",
        "X = Dense(8, activation=\"relu\")(X)\n",
        "y = Dense(22, activation=\"softmax\")(X)\n",
        "\n",
        "model = Model(inputs=[Days, Locts, Hours, Minutes, PrevActs, Time], outputs=y)\n",
        "#model = Model(inputs=[Days, Locts, Hours, PrevActs, Time], outputs=y)\n",
        "\n",
        "opt = Adam(lr=0.001)\n",
        "model.compile(loss=\"categorical_crossentropy\", optimizer=opt, metrics=[\"accuracy\"])"
      ],
      "execution_count": null,
      "outputs": [
        {
          "output_type": "stream",
          "text": [
            "(None, 48)\n"
          ],
          "name": "stdout"
        }
      ]
    },
    {
      "cell_type": "code",
      "metadata": {
        "id": "t23ihiQozAL2"
      },
      "source": [
        "mc = ModelCheckpoint('Best_Model.h5', monitor='val_loss', mode='min', verbose=0, save_best_only=True)\n",
        "history = model.fit(\n",
        "    trainX, trainY, validation_data=(valX, valY), batch_size=64,\n",
        "    epochs=100, callbacks=[mc], verbose=0)"
      ],
      "execution_count": null,
      "outputs": []
    },
    {
      "cell_type": "code",
      "metadata": {
        "id": "g-G4kjDAzAL_",
        "colab": {
          "base_uri": "https://localhost:8080/"
        },
        "outputId": "68a5a5c0-d51e-43fc-bc3f-0d7bb00a6bc5"
      },
      "source": [
        "model = load_model(\"Best_Model.h5\")\n",
        "Ypred1 = model.predict(valX)\n",
        "Yp = numpy.argmax(Ypred1,axis=1)\n",
        "Ya = numpy.argmax(valY,axis=1)\n",
        "YP = []\n",
        "YA = []\n",
        "for i in range(len(Yp)):\n",
        "  YP.append(vals[Yp[i]])\n",
        "  YA.append(vals[Ya[i]])\n",
        "print(classification_report(YA,YP))\n",
        "print(\"Micro F1-Score:\",f1_score(YA,YP,average='micro'))\n",
        "print(\"Macro F1-Score:\",f1_score(YA,YP,average='macro'))\n",
        "print(\"Weighted F1-Score:\",f1_score(YA,YP,average='weighted'))"
      ],
      "execution_count": null,
      "outputs": [
        {
          "output_type": "stream",
          "text": [
            "                        precision    recall  f1-score   support\n",
            "\n",
            "   Bed_to_Toilet begin       0.96      1.00      0.98        26\n",
            "     Bed_to_Toilet end       1.00      1.00      1.00        26\n",
            "          Eating begin       0.91      0.88      0.89        33\n",
            "            Eating end       0.88      0.91      0.90        33\n",
            "      Enter_Home begin       1.00      1.00      1.00        49\n",
            "        Enter_Home end       1.00      1.00      1.00        48\n",
            "      Housekeeping end       0.00      0.00      0.00         0\n",
            "      Leave_Home begin       0.87      0.92      0.89        49\n",
            "        Leave_Home end       1.00      1.00      1.00        49\n",
            "Meal_Preparation begin       0.98      0.96      0.97       285\n",
            "  Meal_Preparation end       0.96      0.96      0.96       286\n",
            "           Relax begin       0.98      0.99      0.98       470\n",
            "             Relax end       0.98      0.97      0.97       470\n",
            "       Respirate begin       0.00      0.00      0.00         1\n",
            "         Respirate end       0.00      0.00      0.00         1\n",
            "        Sleeping begin       1.00      0.96      0.98        69\n",
            "          Sleeping end       1.00      1.00      1.00        69\n",
            "     Wash_Dishes begin       0.00      0.00      0.00         3\n",
            "       Wash_Dishes end       1.00      1.00      1.00         3\n",
            "            Work begin       0.79      1.00      0.88        15\n",
            "              Work end       1.00      1.00      1.00        15\n",
            "\n",
            "              accuracy                           0.97      2000\n",
            "             macro avg       0.78      0.79      0.78      2000\n",
            "          weighted avg       0.97      0.97      0.97      2000\n",
            "\n",
            "Micro F1-Score: 0.968\n",
            "Macro F1-Score: 0.7813242796810327\n",
            "Weighted F1-Score: 0.9693590237327482\n"
          ],
          "name": "stdout"
        },
        {
          "output_type": "stream",
          "text": [
            "/usr/local/lib/python3.7/dist-packages/sklearn/metrics/_classification.py:1272: UndefinedMetricWarning: Precision and F-score are ill-defined and being set to 0.0 in labels with no predicted samples. Use `zero_division` parameter to control this behavior.\n",
            "  _warn_prf(average, modifier, msg_start, len(result))\n",
            "/usr/local/lib/python3.7/dist-packages/sklearn/metrics/_classification.py:1272: UndefinedMetricWarning: Recall and F-score are ill-defined and being set to 0.0 in labels with no true samples. Use `zero_division` parameter to control this behavior.\n",
            "  _warn_prf(average, modifier, msg_start, len(result))\n"
          ],
          "name": "stderr"
        }
      ]
    },
    {
      "cell_type": "code",
      "metadata": {
        "id": "F6_1Tlb6Hzdk",
        "colab": {
          "base_uri": "https://localhost:8080/"
        },
        "outputId": "7ab194c5-6ef7-404f-921d-965ac70877a1"
      },
      "source": [
        "model = load_model(\"Best_Model.h5\")\n",
        "Ypred1 = model.predict(testX)\n",
        "Yp = numpy.argmax(Ypred1,axis=1)\n",
        "Ya = numpy.argmax(testY,axis=1)\n",
        "YP = []\n",
        "YA = []\n",
        "for i in range(len(Yp)):\n",
        "  YP.append(vals[Yp[i]])\n",
        "  YA.append(vals[Ya[i]])\n",
        "print(classification_report(YA,YP))\n",
        "print(\"Micro F1-Score:\",f1_score(YA,YP,average='micro'))\n",
        "print(\"Macro F1-Score:\",f1_score(YA,YP,average='macro'))\n",
        "print(\"Weighted F1-Score:\",f1_score(YA,YP,average='weighted'))"
      ],
      "execution_count": null,
      "outputs": [
        {
          "output_type": "stream",
          "text": [
            "                        precision    recall  f1-score   support\n",
            "\n",
            "   Bed_to_Toilet begin       1.00      1.00      1.00        27\n",
            "     Bed_to_Toilet end       1.00      1.00      1.00        27\n",
            "          Eating begin       0.94      0.85      0.89        39\n",
            "            Eating end       0.82      0.82      0.82        39\n",
            "      Enter_Home begin       1.00      0.99      1.00       118\n",
            "        Enter_Home end       1.00      0.99      1.00       119\n",
            "      Housekeeping end       0.00      0.00      0.00         0\n",
            "      Leave_Home begin       0.99      0.91      0.95       118\n",
            "        Leave_Home end       1.00      1.00      1.00       118\n",
            "Meal_Preparation begin       0.97      0.98      0.98       378\n",
            "  Meal_Preparation end       0.97      0.98      0.97       378\n",
            "           Relax begin       0.99      0.99      0.99       655\n",
            "             Relax end       1.00      1.00      1.00       655\n",
            "       Respirate begin       0.00      0.00      0.00         2\n",
            "         Respirate end       1.00      1.00      1.00         2\n",
            "        Sleeping begin       0.97      0.93      0.95        90\n",
            "          Sleeping end       0.99      0.98      0.98        90\n",
            "     Wash_Dishes begin       0.00      0.00      0.00         5\n",
            "       Wash_Dishes end       0.60      0.60      0.60         5\n",
            "            Work begin       0.80      1.00      0.89        44\n",
            "              Work end       0.98      1.00      0.99        44\n",
            "\n",
            "              accuracy                           0.98      2953\n",
            "             macro avg       0.81      0.81      0.81      2953\n",
            "          weighted avg       0.98      0.98      0.98      2953\n",
            "\n",
            "Micro F1-Score: 0.9776498476125973\n",
            "Macro F1-Score: 0.8095909692583644\n",
            "Weighted F1-Score: 0.9781942357961274\n"
          ],
          "name": "stdout"
        },
        {
          "output_type": "stream",
          "text": [
            "/usr/local/lib/python3.7/dist-packages/sklearn/metrics/_classification.py:1272: UndefinedMetricWarning: Precision and F-score are ill-defined and being set to 0.0 in labels with no predicted samples. Use `zero_division` parameter to control this behavior.\n",
            "  _warn_prf(average, modifier, msg_start, len(result))\n",
            "/usr/local/lib/python3.7/dist-packages/sklearn/metrics/_classification.py:1272: UndefinedMetricWarning: Recall and F-score are ill-defined and being set to 0.0 in labels with no true samples. Use `zero_division` parameter to control this behavior.\n",
            "  _warn_prf(average, modifier, msg_start, len(result))\n"
          ],
          "name": "stderr"
        }
      ]
    },
    {
      "cell_type": "code",
      "metadata": {
        "id": "BLbU8FKGHp-R",
        "colab": {
          "base_uri": "https://localhost:8080/",
          "height": 295
        },
        "outputId": "2621e89a-e25e-447c-fbf2-e65f44e45dd7"
      },
      "source": [
        "import matplotlib.pyplot as plt\n",
        "\n",
        "plt.plot(history.history['loss'], label='Training')\n",
        "plt.plot(history.history['val_loss'], label='Validation')\n",
        "plt.title('Categorical Cross Entropy')\n",
        "plt.ylabel('Error')\n",
        "plt.xlabel('Epoch')\n",
        "plt.legend(loc=\"upper left\")\n",
        "plt.show()"
      ],
      "execution_count": null,
      "outputs": [
        {
          "output_type": "display_data",
          "data": {
            "image/png": "[encoded data removed]",
            "text/plain": [
              "<Figure size 432x288 with 1 Axes>"
            ]
          },
          "metadata": {
            "tags": [],
            "needs_background": "light"
          }
        }
      ]
    },
    {
      "cell_type": "code",
      "metadata": {
        "colab": {
          "base_uri": "https://localhost:8080/"
        },
        "id": "b9g3zPAgKZJI",
        "outputId": "e1bf2e9c-8847-42a4-8ee8-67af58508c3c"
      },
      "source": [
        "print(len(trainX))\n",
        "print(len(valX))\n",
        "print(len(testX))"
      ],
      "execution_count": null,
      "outputs": [
        {
          "output_type": "stream",
          "text": [
            "5\n",
            "5\n",
            "5\n"
          ],
          "name": "stdout"
        }
      ]
    },
    {
      "cell_type": "code",
      "metadata": {
        "colab": {
          "base_uri": "https://localhost:8080/"
        },
        "id": "A6FyKXakMqPC",
        "outputId": "71242e32-7b14-4c21-b740-10814a2e4798"
      },
      "source": [
        "trainset = trainX[0]\n",
        "for i in range(1,len(trainX)):\n",
        "  print(trainset.shape)\n",
        "  print(trainX[i].shape)\n",
        "  trainset = numpy.concatenate((trainset,trainX[i]),axis=1)\n",
        "\n",
        "valset = valX[0]\n",
        "for i in range(1,len(valX)):\n",
        "  print(valset.shape)\n",
        "  print(valX[i].shape)\n",
        "  valset = numpy.concatenate((valset,valX[i]),axis=1)\n",
        "\n",
        "testset = testX[0]\n",
        "for i in range(1,len(testX)):\n",
        "  print(testset.shape)\n",
        "  print(testX[i].shape)\n",
        "  testset = numpy.concatenate((testset,testX[i]),axis=1)\n",
        "\n",
        "print(trainset.shape)\n",
        "print(valset.shape)\n",
        "print(testset.shape)"
      ],
      "execution_count": null,
      "outputs": [
        {
          "output_type": "stream",
          "text": [
            "(8000, 7)\n",
            "(8000, 11)\n",
            "(8000, 18)\n",
            "(8000, 24)\n",
            "(8000, 42)\n",
            "(8000, 60)\n",
            "(8000, 102)\n",
            "(8000, 22)\n",
            "(8000, 124)\n",
            "(8000, 1)\n",
            "(2000, 7)\n",
            "(2000, 11)\n",
            "(2000, 18)\n",
            "(2000, 24)\n",
            "(2000, 42)\n",
            "(2000, 60)\n",
            "(2000, 102)\n",
            "(2000, 22)\n",
            "(2000, 124)\n",
            "(2000, 1)\n",
            "(2953, 7)\n",
            "(2953, 11)\n",
            "(2953, 18)\n",
            "(2953, 24)\n",
            "(2953, 42)\n",
            "(2953, 60)\n",
            "(2953, 102)\n",
            "(2953, 22)\n",
            "(2953, 124)\n",
            "(2953, 1)\n",
            "(8000, 125)\n",
            "(2000, 125)\n",
            "(2953, 125)\n"
          ],
          "name": "stdout"
        }
      ]
    },
    {
      "cell_type": "code",
      "metadata": {
        "id": "W3FJ_adiQIOl"
      },
      "source": [
        "X = Input(shape=(125,))\n",
        "\n",
        "H1 = Dense(32, activation=\"relu\", input_shape=(7,))(X)\n",
        "\n",
        "H2 = Dense(12, activation=\"relu\")(H1)\n",
        "y = Dense(22, activation=\"softmax\")(H2)\n",
        "\n",
        "model = Model(inputs=X, outputs=y)\n",
        "\n",
        "opt = Adam(lr=0.0005)\n",
        "model.compile(loss=\"categorical_crossentropy\", optimizer=opt, metrics=[\"accuracy\"])"
      ],
      "execution_count": null,
      "outputs": []
    },
    {
      "cell_type": "code",
      "metadata": {
        "id": "u0cOKqP1SpZR"
      },
      "source": [
        "mc = ModelCheckpoint('Best_Model.h5', monitor='val_loss', mode='min', verbose=0, save_best_only=True)\n",
        "history = model.fit(\n",
        "    trainset, trainY, validation_data=(valset, valY), batch_size=256,\n",
        "    epochs=100, callbacks=[mc], verbose=0)"
      ],
      "execution_count": null,
      "outputs": []
    },
    {
      "cell_type": "code",
      "metadata": {
        "colab": {
          "base_uri": "https://localhost:8080/"
        },
        "id": "q7wvpNhSS0x_",
        "outputId": "b0c44467-b9dd-4c84-f4bb-244ce4453dc3"
      },
      "source": [
        "model = load_model(\"Best_Model.h5\")\n",
        "Ypred1 = model.predict(valset)\n",
        "Yp = numpy.argmax(Ypred1,axis=1)\n",
        "Ya = numpy.argmax(valY,axis=1)\n",
        "YP = []\n",
        "YA = []\n",
        "for i in range(len(Yp)):\n",
        "  YP.append(vals[Yp[i]])\n",
        "  YA.append(vals[Ya[i]])\n",
        "print(classification_report(YA,YP))\n",
        "print(\"Micro F1-Score:\",f1_score(YA,YP,average='micro'))\n",
        "print(\"Macro F1-Score:\",f1_score(YA,YP,average='macro'))\n",
        "print(\"Weighted F1-Score:\",f1_score(YA,YP,average='weighted'))"
      ],
      "execution_count": null,
      "outputs": [
        {
          "output_type": "stream",
          "text": [
            "                        precision    recall  f1-score   support\n",
            "\n",
            "   Bed_to_Toilet begin       0.96      1.00      0.98        26\n",
            "     Bed_to_Toilet end       1.00      1.00      1.00        26\n",
            "          Eating begin       0.89      1.00      0.94        33\n",
            "            Eating end       0.88      0.91      0.90        33\n",
            "      Enter_Home begin       1.00      1.00      1.00        49\n",
            "        Enter_Home end       0.96      0.98      0.97        48\n",
            "      Leave_Home begin       0.79      0.92      0.85        49\n",
            "        Leave_Home end       1.00      1.00      1.00        49\n",
            "Meal_Preparation begin       0.99      0.97      0.98       285\n",
            "  Meal_Preparation end       0.96      0.96      0.96       286\n",
            "           Relax begin       0.98      0.98      0.98       470\n",
            "             Relax end       0.97      0.98      0.97       470\n",
            "       Respirate begin       0.00      0.00      0.00         1\n",
            "         Respirate end       0.00      0.00      0.00         1\n",
            "        Sleeping begin       0.96      0.99      0.97        69\n",
            "          Sleeping end       1.00      1.00      1.00        69\n",
            "     Wash_Dishes begin       0.00      0.00      0.00         3\n",
            "       Wash_Dishes end       0.00      0.00      0.00         3\n",
            "            Work begin       0.88      1.00      0.94        15\n",
            "              Work end       1.00      0.40      0.57        15\n",
            "\n",
            "              accuracy                           0.97      2000\n",
            "             macro avg       0.76      0.75      0.75      2000\n",
            "          weighted avg       0.96      0.97      0.96      2000\n",
            "\n",
            "Micro F1-Score: 0.9675\n",
            "Macro F1-Score: 0.7506881116093311\n",
            "Weighted F1-Score: 0.9649772854668069\n"
          ],
          "name": "stdout"
        },
        {
          "output_type": "stream",
          "text": [
            "/usr/local/lib/python3.7/dist-packages/sklearn/metrics/_classification.py:1272: UndefinedMetricWarning: Precision and F-score are ill-defined and being set to 0.0 in labels with no predicted samples. Use `zero_division` parameter to control this behavior.\n",
            "  _warn_prf(average, modifier, msg_start, len(result))\n"
          ],
          "name": "stderr"
        }
      ]
    },
    {
      "cell_type": "code",
      "metadata": {
        "colab": {
          "base_uri": "https://localhost:8080/"
        },
        "id": "wz0dCC_jTZrv",
        "outputId": "6bd93c0b-8713-47d3-bc53-0ea897e93791"
      },
      "source": [
        "model = load_model(\"Best_Model.h5\")\n",
        "Ypred1 = model.predict(testset)\n",
        "Yp = numpy.argmax(Ypred1,axis=1)\n",
        "Ya = numpy.argmax(testY,axis=1)\n",
        "YP = []\n",
        "YA = []\n",
        "for i in range(len(Yp)):\n",
        "  YP.append(vals[Yp[i]])\n",
        "  YA.append(vals[Ya[i]])\n",
        "print(classification_report(YA,YP))\n",
        "print(\"Micro F1-Score:\",f1_score(YA,YP,average='micro'))\n",
        "print(\"Macro F1-Score:\",f1_score(YA,YP,average='macro'))\n",
        "print(\"Weighted F1-Score:\",f1_score(YA,YP,average='weighted'))"
      ],
      "execution_count": null,
      "outputs": [
        {
          "output_type": "stream",
          "text": [
            "                        precision    recall  f1-score   support\n",
            "\n",
            "   Bed_to_Toilet begin       0.90      1.00      0.95        27\n",
            "     Bed_to_Toilet end       0.90      1.00      0.95        27\n",
            "          Eating begin       0.87      0.85      0.86        39\n",
            "            Eating end       0.79      0.79      0.79        39\n",
            "      Enter_Home begin       1.00      0.96      0.98       118\n",
            "        Enter_Home end       1.00      0.98      0.99       119\n",
            "      Leave_Home begin       0.79      0.91      0.85       118\n",
            "        Leave_Home end       0.99      1.00      1.00       118\n",
            "Meal_Preparation begin       0.97      0.99      0.98       378\n",
            "  Meal_Preparation end       0.96      0.97      0.97       378\n",
            "           Relax begin       0.99      0.99      0.99       655\n",
            "             Relax end       0.99      1.00      0.99       655\n",
            "       Respirate begin       0.00      0.00      0.00         2\n",
            "         Respirate end       0.00      0.00      0.00         2\n",
            "        Sleeping begin       0.98      0.96      0.97        90\n",
            "          Sleeping end       0.99      0.98      0.98        90\n",
            "     Wash_Dishes begin       0.00      0.00      0.00         5\n",
            "       Wash_Dishes end       0.00      0.00      0.00         5\n",
            "            Work begin       0.78      0.95      0.86        44\n",
            "              Work end       1.00      0.45      0.62        44\n",
            "\n",
            "              accuracy                           0.97      2953\n",
            "             macro avg       0.75      0.74      0.74      2953\n",
            "          weighted avg       0.96      0.97      0.96      2953\n",
            "\n",
            "Micro F1-Score: 0.9657974940738232\n",
            "Macro F1-Score: 0.7360698865297344\n",
            "Weighted F1-Score: 0.962635735476749\n"
          ],
          "name": "stdout"
        },
        {
          "output_type": "stream",
          "text": [
            "/usr/local/lib/python3.7/dist-packages/sklearn/metrics/_classification.py:1272: UndefinedMetricWarning: Precision and F-score are ill-defined and being set to 0.0 in labels with no predicted samples. Use `zero_division` parameter to control this behavior.\n",
            "  _warn_prf(average, modifier, msg_start, len(result))\n"
          ],
          "name": "stderr"
        }
      ]
    },
    {
      "cell_type": "markdown",
      "metadata": {
        "id": "njLImimb1Pp7"
      },
      "source": [
        "# Data Processing Milan\n"
      ]
    },
    {
      "cell_type": "code",
      "metadata": {
        "id": "oI2l3LfR1X_j"
      },
      "source": [
        "import pandas as pd\n",
        "import numpy"
      ],
      "execution_count": null,
      "outputs": []
    },
    {
      "cell_type": "code",
      "metadata": {
        "id": "CVRcfMLg1X_j"
      },
      "source": [
        "f = open(\"data\")\n",
        "f = f.read().split(\"\\n\")"
      ],
      "execution_count": null,
      "outputs": []
    },
    {
      "cell_type": "code",
      "metadata": {
        "colab": {
          "base_uri": "https://localhost:8080/"
        },
        "id": "PPTLSq4C1X_j",
        "outputId": "e99f78df-074f-456b-89e5-50bddbe83195"
      },
      "source": [
        "data = []\n",
        "for i in range(len(f)):\n",
        "    dataExample = f[i]\n",
        "    \n",
        "    a = dataExample.replace('\\t', ' ').replace('\\n', ' ').split(\" \")\n",
        "    ar = []\n",
        "    for i in a:\n",
        "        if i:\n",
        "            ar.append(i)\n",
        "    if len(ar) == 4:\n",
        "        ar.append(\"NoAction\")\n",
        "    elif len(ar)>4:\n",
        "        temp = \" \".join(ar[4:])\n",
        "        ar = ar[:4] + [temp]\n",
        "    else:\n",
        "        print(i,dataExample)\n",
        "    \n",
        "    if ar != []:\n",
        "        data.append(ar)"
      ],
      "execution_count": null,
      "outputs": [
        {
          "output_type": "stream",
          "text": [
            " 2009-10-24 \n"
          ],
          "name": "stdout"
        }
      ]
    },
    {
      "cell_type": "code",
      "metadata": {
        "colab": {
          "base_uri": "https://localhost:8080/"
        },
        "id": "-iArLDIY1X_k",
        "outputId": "d77b7f08-b391-4568-f300-a60e66ec9f6f"
      },
      "source": [
        "DataNew = []\n",
        "for ii in range(len(data)):\n",
        "  i = data[ii]\n",
        "  try:\n",
        "    if i[4] != \"NoAction\":\n",
        "      DataNew.append([i[0],i[1],i[2],i[4]])\n",
        "  except:\n",
        "    print(ii,i)\n",
        "data = DataNew"
      ],
      "execution_count": null,
      "outputs": [
        {
          "output_type": "stream",
          "text": [
            "58904 ['2009-10-24']\n"
          ],
          "name": "stdout"
        }
      ]
    },
    {
      "cell_type": "code",
      "metadata": {
        "id": "Q9oNJUa81X_k"
      },
      "source": [
        "data = numpy.array(DataNew)\n",
        "data = pd.DataFrame(data)\n",
        "data.to_csv(\"DataMilan.csv\", index=False, header=False)"
      ],
      "execution_count": null,
      "outputs": []
    },
    {
      "cell_type": "markdown",
      "metadata": {
        "id": "F23-pYka24HX"
      },
      "source": [
        "# Action Model Milan"
      ]
    },
    {
      "cell_type": "code",
      "metadata": {
        "id": "3Iw0BHT53Ffh"
      },
      "source": [
        "import numpy\n",
        "import pandas as pd\n",
        "import keras\n",
        "\n",
        "import tensorflow as tf\n",
        "from tensorflow.keras.layers import *\n",
        "from tensorflow.keras.optimizers import *\n",
        "from tensorflow.keras.utils import to_categorical\n",
        "from tensorflow.keras.callbacks import EarlyStopping\n",
        "from tensorflow.keras.callbacks import ModelCheckpoint\n",
        "from tensorflow.keras.models import Sequential, Model, load_model\n",
        "from sklearn.metrics import classification_report, f1_score\n",
        "from tensorflow.keras import backend as K"
      ],
      "execution_count": null,
      "outputs": []
    },
    {
      "cell_type": "code",
      "metadata": {
        "id": "DoHLXkLA3Ffi"
      },
      "source": [
        "def to_one(arr):\n",
        "  vals = list(set(arr))\n",
        "  ar = []\n",
        "  for i in range(len(arr)):\n",
        "    ar.append(vals.index(arr[i]))\n",
        "  return to_categorical(ar),vals"
      ],
      "execution_count": null,
      "outputs": []
    },
    {
      "cell_type": "code",
      "metadata": {
        "id": "lL4R7H1i3Ffi"
      },
      "source": [
        "d = pd.read_csv(\"DataMilan.csv\", header=None).to_numpy()\n",
        "data = []\n",
        "day = []\n",
        "time = []\n",
        "hour = []\n",
        "minute = []\n",
        "loct = []\n",
        "prevAct = []\n",
        "y = []\n",
        "for i in range(1,len(d)):\n",
        "  if d[i][4] != \"NoAction\":\n",
        "    data.append( [d[i][1], d[i][2][:5], d[i][3], d[i-1][4]] )\n",
        "    t = d[i][2][:5]\n",
        "    if t[-1] == \":\":\n",
        "      t = t[:-1]\n",
        "    day.append(d[i][1])\n",
        "    time.append(t)\n",
        "    colon = t.find(':')\n",
        "    hour.append(int(t[:colon]))\n",
        "    minute.append(int(t[colon+1:]))\n",
        "    loct.append(d[i][3])\n",
        "    if len(y)==0:\n",
        "      prevAct.append(\"Sleeping begin\")\n",
        "    else:\n",
        "      prevAct.append(y[-1])\n",
        "    y.append(d[i][4])\n",
        "hour = numpy.array(hour)\n",
        "minute = numpy.array(minute)"
      ],
      "execution_count": null,
      "outputs": []
    },
    {
      "cell_type": "code",
      "metadata": {
        "colab": {
          "base_uri": "https://localhost:8080/"
        },
        "id": "TgCXGCX_GUyi",
        "outputId": "d4509340-0b44-4d7a-e36a-3f7243602bca"
      },
      "source": [
        "print(hour.shape)\n",
        "print(minute.shape)\n",
        "time = hour*60 + minute\n",
        "time = numpy.reshape(time,(time.shape[0],1))\n",
        "print(time.shape)"
      ],
      "execution_count": null,
      "outputs": [
        {
          "output_type": "stream",
          "text": [
            "(526,)\n",
            "(526,)\n",
            "(526, 1)\n"
          ],
          "name": "stdout"
        }
      ]
    },
    {
      "cell_type": "code",
      "metadata": {
        "id": "xts4yDB23Ffi"
      },
      "source": [
        "day, _ = to_one(day)\n",
        "loct, _ = to_one(loct)\n",
        "prevAct, vals = to_one(prevAct)\n",
        "hour, _ = to_one(hour)\n",
        "minute, _ = to_one(minute)\n",
        "Y = []\n",
        "for i in range(len(y)):\n",
        "  Y.append(vals.index(y[i]))\n",
        "Y = to_categorical(Y)"
      ],
      "execution_count": null,
      "outputs": []
    },
    {
      "cell_type": "code",
      "metadata": {
        "colab": {
          "base_uri": "https://localhost:8080/"
        },
        "id": "VB9QdGFu4bqg",
        "outputId": "9c3e6818-482c-4b21-f396-8fa2774c3ec4"
      },
      "source": [
        "print(day.shape,loct.shape,hour.shape,minute.shape,prevAct.shape,Y.shape)"
      ],
      "execution_count": null,
      "outputs": [
        {
          "output_type": "stream",
          "text": [
            "(526, 7) (526, 28) (526, 22) (526, 60) (526, 27) (526, 27)\n"
          ],
          "name": "stdout"
        }
      ]
    },
    {
      "cell_type": "code",
      "metadata": {
        "id": "F-BN4Us83Ffi"
      },
      "source": [
        "trainEnd = 350\n",
        "valEnd = 400\n",
        "trainX = [day[:trainEnd],loct[:trainEnd],hour[:trainEnd],minute[:trainEnd],prevAct[:trainEnd],time[:trainEnd]]\n",
        "#trainX = [loct[:trainEnd],hour[:trainEnd],minute[:trainEnd],prevAct[:trainEnd],time[:trainEnd]]\n",
        "\n",
        "trainY = Y[:trainEnd]\n",
        "valX = [day[trainEnd:valEnd],loct[trainEnd:valEnd],hour[trainEnd:valEnd],minute[trainEnd:valEnd],prevAct[trainEnd:valEnd],time[trainEnd:valEnd]]\n",
        "#valX = [loct[trainEnd:valEnd],hour[trainEnd:valEnd],minute[trainEnd:valEnd],prevAct[trainEnd:valEnd],time[trainEnd:valEnd]]\n",
        "\n",
        "valY = Y[trainEnd:valEnd]\n",
        "testX = [day[valEnd:],loct[valEnd:],hour[valEnd:],minute[valEnd:],prevAct[valEnd:],time[valEnd:]]\n",
        "#testX = [loct[valEnd:],hour[valEnd:],minute[valEnd:],prevAct[valEnd:],time[valEnd:]]\n",
        "testY = Y[valEnd:]"
      ],
      "execution_count": null,
      "outputs": []
    },
    {
      "cell_type": "code",
      "metadata": {
        "id": "wD8cBa6v3Ffj"
      },
      "source": [
        "#Days = Input(shape=(7,))\n",
        "Locts = Input(shape=(28,))\n",
        "PrevActs = Input(shape=(27,))\n",
        "Hours = Input(shape=(22,))\n",
        "Minutes = Input(shape=(60,))\n",
        "Time = Input(shape=(1,))\n",
        "\n",
        "#Day = Dense(10, activation=\"relu\", input_shape=(7,))(Days)\n",
        "\n",
        "Loct = Dense(10, activation=\"relu\", input_shape=(11,))(Locts)\n",
        "\n",
        "PrevAct = Dense(10, activation=\"relu\")(PrevActs)\n",
        "\n",
        "Hour = Dense(8, activation=\"relu\", input_shape=(22,))(Hours)\n",
        "Minute = Dense(8, activation=\"relu\", input_shape=(60,))(Minutes)\n",
        "Time1 = Dense(8, activation=\"relu\", input_shape=(1,))(Time)\n",
        "#Time = concatenate([Hour, Minute])\n",
        "#Time = Dense(10, activation=\"relu\")(Time)\n",
        "\n",
        "#X = concatenate([Day, Loct, Hour,Minute, PrevAct, Time1])\n",
        "X = concatenate([Loct, Hour,Minute, PrevAct, Time1])\n",
        "\n",
        "X = Dense(64, activation=\"relu\")(X)\n",
        "y = Dense(27, activation=\"softmax\")(X)\n",
        "\n",
        "#model = Model(inputs=[Days, Locts, Hours, Minutes, PrevActs,Time], outputs=y)\n",
        "model = Model(inputs=[Locts, Hours, Minutes, PrevActs,Time], outputs=y)\n",
        "\n",
        "opt = Adam(lr=0.005)\n",
        "model.compile(loss=\"categorical_crossentropy\", optimizer=opt, metrics=[\"accuracy\"])"
      ],
      "execution_count": null,
      "outputs": []
    },
    {
      "cell_type": "code",
      "metadata": {
        "id": "-8KwvX1q3Ffj"
      },
      "source": [
        "mc = ModelCheckpoint('Best_Model.h5', monitor='val_loss', mode='min', verbose=0, save_best_only=True)\n",
        "history = model.fit(\n",
        "    trainX, trainY, validation_data=(valX, valY), batch_size=64,\n",
        "    epochs=200, callbacks=[mc], verbose=0)"
      ],
      "execution_count": null,
      "outputs": []
    },
    {
      "cell_type": "code",
      "metadata": {
        "colab": {
          "base_uri": "https://localhost:8080/"
        },
        "id": "1WjuZBvK3Ffj",
        "outputId": "ed4bcd9e-6e84-4fce-a40c-3960b5deff8b"
      },
      "source": [
        "model = load_model(\"Best_Model.h5\")\n",
        "Ypred1 = model.predict(valX)\n",
        "Yp = numpy.argmax(Ypred1,axis=1)\n",
        "Ya = numpy.argmax(valY,axis=1)\n",
        "YP = []\n",
        "YA = []\n",
        "for i in range(len(Yp)):\n",
        "  YP.append(vals[Yp[i]])\n",
        "  YA.append(vals[Ya[i]])\n",
        "print(classification_report(YA,YP))\n",
        "print(\"Micro F1-Score:\",f1_score(YA,YP,average='micro'))\n",
        "print(\"Macro F1-Score:\",f1_score(YA,YP,average='macro'))\n",
        "print(\"Weighted F1-Score:\",f1_score(YA,YP,average='weighted'))"
      ],
      "execution_count": null,
      "outputs": [
        {
          "output_type": "stream",
          "text": [
            "                        precision    recall  f1-score   support\n",
            "\n",
            "   Bed_to_Toilet begin       0.50      0.50      0.50         2\n",
            "     Bed_to_Toilet end       1.00      1.00      1.00         2\n",
            "          Chores begin       0.50      0.33      0.40         3\n",
            "            Chores end       0.75      1.00      0.86         3\n",
            "   Desk_Activity begin       1.00      1.00      1.00         1\n",
            "     Desk_Activity end       1.00      1.00      1.00         1\n",
            "  Guest_Bathroom begin       1.00      1.00      1.00         1\n",
            "    Guest_Bathroom end       1.00      1.00      1.00         1\n",
            "Kitchen_Activity begin       0.67      0.50      0.57         4\n",
            "  Kitchen_Activity end       0.60      0.75      0.67         4\n",
            "      Leave_Home begin       1.00      0.67      0.80         3\n",
            "        Leave_Home end       1.00      1.00      1.00         3\n",
            " Master_Bathroom begin       0.83      1.00      0.91         5\n",
            "   Master_Bathroom end       1.00      1.00      1.00         5\n",
            "    Morning_Meds begin       1.00      1.00      1.00         1\n",
            "      Morning_Meds end       1.00      1.00      1.00         1\n",
            "            Read begin       1.00      1.00      1.00         1\n",
            "              Read end       1.00      1.00      1.00         1\n",
            "           Sleep begin       1.00      0.75      0.86         4\n",
            "             Sleep end       1.00      1.00      1.00         4\n",
            "        Watch_TV begin       0.00      0.00      0.00         0\n",
            "\n",
            "              accuracy                           0.84        50\n",
            "             macro avg       0.85      0.83      0.84        50\n",
            "          weighted avg       0.86      0.84      0.84        50\n",
            "\n",
            "Micro F1-Score: 0.8399999999999999\n",
            "Macro F1-Score: 0.8362605648319934\n",
            "Weighted F1-Score: 0.8419567099567099\n"
          ],
          "name": "stdout"
        },
        {
          "output_type": "stream",
          "text": [
            "/usr/local/lib/python3.6/dist-packages/sklearn/metrics/_classification.py:1272: UndefinedMetricWarning: Recall and F-score are ill-defined and being set to 0.0 in labels with no true samples. Use `zero_division` parameter to control this behavior.\n",
            "  _warn_prf(average, modifier, msg_start, len(result))\n"
          ],
          "name": "stderr"
        }
      ]
    },
    {
      "cell_type": "code",
      "metadata": {
        "colab": {
          "base_uri": "https://localhost:8080/"
        },
        "id": "eGl9Tmzz3Ffj",
        "outputId": "2ca23cda-9d23-4139-d217-08637f93f9f2"
      },
      "source": [
        "model = load_model(\"Best_Model.h5\")\n",
        "Ypred1 = model.predict(testX)\n",
        "Yp = numpy.argmax(Ypred1,axis=1)\n",
        "Ya = numpy.argmax(testY,axis=1)\n",
        "YP = []\n",
        "YA = []\n",
        "for i in range(len(Yp)):\n",
        "  YP.append(vals[Yp[i]])\n",
        "  YA.append(vals[Ya[i]])\n",
        "print(classification_report(YA,YP))\n",
        "print(\"Micro F1-Score:\",f1_score(YA,YP,average='micro'))\n",
        "print(\"Macro F1-Score:\",f1_score(YA,YP,average='macro'))\n",
        "print(\"Weighted F1-Score:\",f1_score(YA,YP,average='weighted'))"
      ],
      "execution_count": null,
      "outputs": [
        {
          "output_type": "stream",
          "text": [
            "                        precision    recall  f1-score   support\n",
            "\n",
            "   Bed_to_Toilet begin       1.00      0.33      0.50         6\n",
            "     Bed_to_Toilet end       1.00      0.67      0.80         6\n",
            "          Chores begin       0.00      0.00      0.00         2\n",
            "            Chores end       0.50      0.50      0.50         2\n",
            "   Desk_Activity begin       1.00      1.00      1.00         1\n",
            "     Desk_Activity end       1.00      1.00      1.00         1\n",
            "  Guest_Bathroom begin       0.00      0.00      0.00         1\n",
            "    Guest_Bathroom end       0.50      1.00      0.67         1\n",
            "Kitchen_Activity begin       0.67      0.80      0.73        10\n",
            "  Kitchen_Activity end       0.91      1.00      0.95        10\n",
            "      Leave_Home begin       0.93      1.00      0.96        13\n",
            "        Leave_Home end       1.00      1.00      1.00        13\n",
            " Master_Bathroom begin       1.00      1.00      1.00         8\n",
            "   Master_Bathroom end       1.00      1.00      1.00         8\n",
            "        Meditate begin       1.00      0.67      0.80         3\n",
            "          Meditate end       1.00      1.00      1.00         3\n",
            "    Morning_Meds begin       1.00      0.33      0.50         3\n",
            "      Morning_Meds end       1.00      1.00      1.00         3\n",
            "            Read begin       0.90      1.00      0.95         9\n",
            "              Read end       1.00      1.00      1.00         9\n",
            "           Sleep begin       0.75      0.86      0.80         7\n",
            "             Sleep end       0.78      1.00      0.88         7\n",
            "\n",
            "              accuracy                           0.87       126\n",
            "             macro avg       0.82      0.78      0.77       126\n",
            "          weighted avg       0.89      0.87      0.86       126\n",
            "\n",
            "Micro F1-Score: 0.8730158730158731\n",
            "Macro F1-Score: 0.7741659877425427\n",
            "Weighted F1-Score: 0.8645479188190132\n"
          ],
          "name": "stdout"
        },
        {
          "output_type": "stream",
          "text": [
            "/usr/local/lib/python3.6/dist-packages/sklearn/metrics/_classification.py:1272: UndefinedMetricWarning: Precision and F-score are ill-defined and being set to 0.0 in labels with no predicted samples. Use `zero_division` parameter to control this behavior.\n",
            "  _warn_prf(average, modifier, msg_start, len(result))\n"
          ],
          "name": "stderr"
        }
      ]
    },
    {
      "cell_type": "code",
      "metadata": {
        "colab": {
          "base_uri": "https://localhost:8080/",
          "height": 295
        },
        "id": "jTPnI2pH3Ffj",
        "outputId": "c1652bfd-ca3b-4f87-afbf-c73e5c4d7b3f"
      },
      "source": [
        "import matplotlib.pyplot as plt\n",
        "\n",
        "plt.plot(history.history['loss'], label='Training')\n",
        "plt.plot(history.history['val_loss'], label='Validation')\n",
        "plt.title('Categorical Cross Entropy')\n",
        "plt.ylabel('Error')\n",
        "plt.xlabel('Epoch')\n",
        "plt.legend(loc=\"upper left\")\n",
        "plt.show()"
      ],
      "execution_count": null,
      "outputs": [
        {
          "output_type": "display_data",
          "data": {
            "image/png": "[encoded data removed]",
            "text/plain": [
              "<Figure size 432x288 with 1 Axes>"
            ]
          },
          "metadata": {
            "tags": [],
            "needs_background": "light"
          }
        }
      ]
    },
    {
      "cell_type": "code",
      "metadata": {
        "colab": {
          "base_uri": "https://localhost:8080/"
        },
        "id": "OPAykbkHqTji",
        "outputId": "be0cb4ff-4e69-44fb-9f0e-2ed15fb373b3"
      },
      "source": [
        "trainset = trainX[0]\n",
        "for i in range(1,len(trainX)):\n",
        "  print(trainset.shape)\n",
        "  print(trainX[i].shape)\n",
        "  trainset = numpy.concatenate((trainset,trainX[i]),axis=1)\n",
        "\n",
        "valset = valX[0]\n",
        "for i in range(1,len(valX)):\n",
        "  print(valset.shape)\n",
        "  print(valX[i].shape)\n",
        "  valset = numpy.concatenate((valset,valX[i]),axis=1)\n",
        "\n",
        "testset = testX[0]\n",
        "for i in range(1,len(testX)):\n",
        "  print(testset.shape)\n",
        "  print(testX[i].shape)\n",
        "  testset = numpy.concatenate((testset,testX[i]),axis=1)\n",
        "\n",
        "print(trainset.shape)\n",
        "print(valset.shape)\n",
        "print(testset.shape)\n",
        "print(trainY.shape)\n",
        "print(valY.shape)"
      ],
      "execution_count": null,
      "outputs": [
        {
          "output_type": "stream",
          "text": [
            "(350, 7)\n",
            "(350, 28)\n",
            "(350, 35)\n",
            "(350, 22)\n",
            "(350, 57)\n",
            "(350, 60)\n",
            "(350, 117)\n",
            "(350, 27)\n",
            "(350, 144)\n",
            "(350, 1)\n",
            "(50, 7)\n",
            "(50, 28)\n",
            "(50, 35)\n",
            "(50, 22)\n",
            "(50, 57)\n",
            "(50, 60)\n",
            "(50, 117)\n",
            "(50, 27)\n",
            "(50, 144)\n",
            "(50, 1)\n",
            "(126, 7)\n",
            "(126, 28)\n",
            "(126, 35)\n",
            "(126, 22)\n",
            "(126, 57)\n",
            "(126, 60)\n",
            "(126, 117)\n",
            "(126, 27)\n",
            "(126, 144)\n",
            "(126, 1)\n",
            "(350, 145)\n",
            "(50, 145)\n",
            "(126, 145)\n",
            "(350, 27)\n",
            "(50, 27)\n"
          ],
          "name": "stdout"
        }
      ]
    },
    {
      "cell_type": "code",
      "metadata": {
        "id": "n0YT2FzEqUkN"
      },
      "source": [
        "X = Input(shape=(145,))\n",
        "\n",
        "H1 = Dense(64, activation=\"relu\", input_shape=(7,))(X)\n",
        "\n",
        "H2 = Dense(32, activation=\"relu\")(H1)\n",
        "y = Dense(27, activation=\"softmax\")(H2)\n",
        "\n",
        "model = Model(inputs=X, outputs=y)\n",
        "\n",
        "opt = Adam(lr=0.002)\n",
        "model.compile(loss=\"categorical_crossentropy\", optimizer=opt, metrics=[\"accuracy\"])"
      ],
      "execution_count": null,
      "outputs": []
    },
    {
      "cell_type": "code",
      "metadata": {
        "id": "F1pbzEtjrghf"
      },
      "source": [
        "mc = ModelCheckpoint('Best_Model.h5', monitor='val_loss', mode='min', verbose=0, save_best_only=True)\n",
        "history = model.fit(\n",
        "    trainset, trainY, validation_data=(valset, valY), batch_size=64,\n",
        "    epochs=100, callbacks=[mc], verbose=0)"
      ],
      "execution_count": null,
      "outputs": []
    },
    {
      "cell_type": "code",
      "metadata": {
        "colab": {
          "base_uri": "https://localhost:8080/"
        },
        "id": "QuP1F9pErlQJ",
        "outputId": "1a845260-4376-4c0e-f5f8-5383644ecbde"
      },
      "source": [
        "model = load_model(\"Best_Model.h5\")\n",
        "Ypred1 = model.predict(valset)\n",
        "Yp = numpy.argmax(Ypred1,axis=1)\n",
        "Ya = numpy.argmax(valY,axis=1)\n",
        "YP = []\n",
        "YA = []\n",
        "for i in range(len(Yp)):\n",
        "  YP.append(vals[Yp[i]])\n",
        "  YA.append(vals[Ya[i]])\n",
        "print(classification_report(YA,YP))\n",
        "print(\"Micro F1-Score:\",f1_score(YA,YP,average='micro'))\n",
        "print(\"Macro F1-Score:\",f1_score(YA,YP,average='macro'))\n",
        "print(\"Weighted F1-Score:\",f1_score(YA,YP,average='weighted'))"
      ],
      "execution_count": null,
      "outputs": [
        {
          "output_type": "stream",
          "text": [
            "                        precision    recall  f1-score   support\n",
            "\n",
            "   Bed_to_Toilet begin       0.00      0.00      0.00         2\n",
            "     Bed_to_Toilet end       1.00      0.50      0.67         2\n",
            "          Chores begin       0.00      0.00      0.00         3\n",
            "            Chores end       1.00      1.00      1.00         3\n",
            "   Desk_Activity begin       0.00      0.00      0.00         1\n",
            "     Desk_Activity end       0.50      1.00      0.67         1\n",
            "  Guest_Bathroom begin       0.00      0.00      0.00         1\n",
            "    Guest_Bathroom end       1.00      1.00      1.00         1\n",
            "Kitchen_Activity begin       0.80      1.00      0.89         4\n",
            "  Kitchen_Activity end       1.00      0.75      0.86         4\n",
            "      Leave_Home begin       0.50      0.67      0.57         3\n",
            "        Leave_Home end       0.75      1.00      0.86         3\n",
            " Master_Bathroom begin       0.57      0.80      0.67         5\n",
            "   Master_Bathroom end       0.71      1.00      0.83         5\n",
            "    Morning_Meds begin       0.00      0.00      0.00         1\n",
            "      Morning_Meds end       1.00      1.00      1.00         1\n",
            "            Read begin       1.00      1.00      1.00         1\n",
            "              Read end       1.00      1.00      1.00         1\n",
            "           Sleep begin       0.75      0.75      0.75         4\n",
            "             Sleep end       0.75      0.75      0.75         4\n",
            "        Watch_TV begin       0.00      0.00      0.00         0\n",
            "\n",
            "              accuracy                           0.72        50\n",
            "             macro avg       0.59      0.63      0.60        50\n",
            "          weighted avg       0.66      0.72      0.68        50\n",
            "\n",
            "Micro F1-Score: 0.72\n",
            "Macro F1-Score: 0.5956160241874527\n",
            "Weighted F1-Score: 0.6753968253968254\n"
          ],
          "name": "stdout"
        },
        {
          "output_type": "stream",
          "text": [
            "/usr/local/lib/python3.7/dist-packages/sklearn/metrics/_classification.py:1272: UndefinedMetricWarning: Precision and F-score are ill-defined and being set to 0.0 in labels with no predicted samples. Use `zero_division` parameter to control this behavior.\n",
            "  _warn_prf(average, modifier, msg_start, len(result))\n",
            "/usr/local/lib/python3.7/dist-packages/sklearn/metrics/_classification.py:1272: UndefinedMetricWarning: Recall and F-score are ill-defined and being set to 0.0 in labels with no true samples. Use `zero_division` parameter to control this behavior.\n",
            "  _warn_prf(average, modifier, msg_start, len(result))\n"
          ],
          "name": "stderr"
        }
      ]
    },
    {
      "cell_type": "code",
      "metadata": {
        "colab": {
          "base_uri": "https://localhost:8080/"
        },
        "id": "jwQ7q0aDrrLS",
        "outputId": "48727552-fac2-4ebd-8fd9-41e062549aa9"
      },
      "source": [
        "model = load_model(\"Best_Model.h5\")\n",
        "Ypred1 = model.predict(testset)\n",
        "Yp = numpy.argmax(Ypred1,axis=1)\n",
        "Ya = numpy.argmax(testY,axis=1)\n",
        "YP = []\n",
        "YA = []\n",
        "for i in range(len(Yp)):\n",
        "  YP.append(vals[Yp[i]])\n",
        "  YA.append(vals[Ya[i]])\n",
        "print(classification_report(YA,YP))\n",
        "print(\"Micro F1-Score:\",f1_score(YA,YP,average='micro'))\n",
        "print(\"Macro F1-Score:\",f1_score(YA,YP,average='macro'))\n",
        "print(\"Weighted F1-Score:\",f1_score(YA,YP,average='weighted'))"
      ],
      "execution_count": null,
      "outputs": [
        {
          "output_type": "stream",
          "text": [
            "WARNING:tensorflow:5 out of the last 13 calls to <function Model.make_predict_function.<locals>.predict_function at 0x7fee49d72290> triggered tf.function retracing. Tracing is expensive and the excessive number of tracings could be due to (1) creating @tf.function repeatedly in a loop, (2) passing tensors with different shapes, (3) passing Python objects instead of tensors. For (1), please define your @tf.function outside of the loop. For (2), @tf.function has experimental_relax_shapes=True option that relaxes argument shapes that can avoid unnecessary retracing. For (3), please refer to https://www.tensorflow.org/guide/function#controlling_retracing and https://www.tensorflow.org/api_docs/python/tf/function for  more details.\n",
            "                        precision    recall  f1-score   support\n",
            "\n",
            "   Bed_to_Toilet begin       0.00      0.00      0.00         6\n",
            "     Bed_to_Toilet end       1.00      0.67      0.80         6\n",
            "          Chores begin       0.00      0.00      0.00         2\n",
            "            Chores end       1.00      0.50      0.67         2\n",
            "   Desk_Activity begin       0.00      0.00      0.00         1\n",
            "     Desk_Activity end       0.50      1.00      0.67         1\n",
            "  Guest_Bathroom begin       1.00      1.00      1.00         1\n",
            "    Guest_Bathroom end       1.00      1.00      1.00         1\n",
            "Kitchen_Activity begin       0.73      0.80      0.76        10\n",
            "  Kitchen_Activity end       0.83      1.00      0.91        10\n",
            "      Leave_Home begin       0.71      0.77      0.74        13\n",
            "        Leave_Home end       0.86      0.92      0.89        13\n",
            " Master_Bathroom begin       0.89      1.00      0.94         8\n",
            "   Master_Bathroom end       0.73      1.00      0.84         8\n",
            "        Meditate begin       0.00      0.00      0.00         3\n",
            "          Meditate end       0.00      0.00      0.00         3\n",
            "    Morning_Meds begin       0.00      0.00      0.00         3\n",
            "      Morning_Meds end       1.00      1.00      1.00         3\n",
            "            Read begin       0.83      0.56      0.67         9\n",
            "              Read end       0.56      1.00      0.72         9\n",
            "           Sleep begin       0.50      0.57      0.53         7\n",
            "             Sleep end       0.70      1.00      0.82         7\n",
            "        Watch_TV begin       0.00      0.00      0.00         0\n",
            "\n",
            "              accuracy                           0.73       126\n",
            "             macro avg       0.56      0.60      0.56       126\n",
            "          weighted avg       0.66      0.73      0.68       126\n",
            "\n",
            "Micro F1-Score: 0.7301587301587301\n",
            "Macro F1-Score: 0.5635117295421509\n",
            "Weighted F1-Score: 0.6820590077841049\n"
          ],
          "name": "stdout"
        },
        {
          "output_type": "stream",
          "text": [
            "/usr/local/lib/python3.7/dist-packages/sklearn/metrics/_classification.py:1272: UndefinedMetricWarning: Precision and F-score are ill-defined and being set to 0.0 in labels with no predicted samples. Use `zero_division` parameter to control this behavior.\n",
            "  _warn_prf(average, modifier, msg_start, len(result))\n",
            "/usr/local/lib/python3.7/dist-packages/sklearn/metrics/_classification.py:1272: UndefinedMetricWarning: Recall and F-score are ill-defined and being set to 0.0 in labels with no true samples. Use `zero_division` parameter to control this behavior.\n",
            "  _warn_prf(average, modifier, msg_start, len(result))\n"
          ],
          "name": "stderr"
        }
      ]
    },
    {
      "cell_type": "markdown",
      "metadata": {
        "id": "ARz0Mgq26atc"
      },
      "source": [
        "# Data Processing Tulum"
      ]
    },
    {
      "cell_type": "code",
      "metadata": {
        "id": "jv4OoRoa6dYt"
      },
      "source": [
        "import pandas as pd\n",
        "import numpy"
      ],
      "execution_count": null,
      "outputs": []
    },
    {
      "cell_type": "code",
      "metadata": {
        "id": "mOeyO2Pn6dYu"
      },
      "source": [
        "f = open(\"data\")\n",
        "f = f.read().split(\"\\n\")"
      ],
      "execution_count": null,
      "outputs": []
    },
    {
      "cell_type": "code",
      "metadata": {
        "colab": {
          "base_uri": "https://localhost:8080/"
        },
        "id": "OstvaqLj6dYu",
        "outputId": "46bd80c6-fb73-46c4-e5db-2ff0f1289b33"
      },
      "source": [
        "data = []\n",
        "for ii in range(len(f)):\n",
        "    dataExample = f[ii]\n",
        "    \n",
        "    a = dataExample.replace('\\t', ' ').replace('\\n', ' ').split(\" \")\n",
        "    ar = []\n",
        "    for i in a:\n",
        "        if i:\n",
        "            ar.append(i)\n",
        "    if len(ar) == 4:\n",
        "        ar.append(\"NoAction\")\n",
        "    elif len(ar)>4:\n",
        "        temp = \" \".join(ar[4:])\n",
        "        ar = ar[:4] + [temp]\n",
        "    else:\n",
        "        print(ii,dataExample)\n",
        "    \n",
        "    if ar != []:\n",
        "        data.append(ar)"
      ],
      "execution_count": null,
      "outputs": [
        {
          "output_type": "stream",
          "text": [
            "445632 2009-11-19 21:13:03.056227\t\t\tON\n",
            "617394 2009-12-14 19:25:40.098519\t \tON\n",
            "1085902 \n"
          ],
          "name": "stdout"
        }
      ]
    },
    {
      "cell_type": "code",
      "metadata": {
        "colab": {
          "base_uri": "https://localhost:8080/"
        },
        "id": "WdRY1ZtL6dYv",
        "outputId": "6208af40-338c-48d2-f37a-76b026275095"
      },
      "source": [
        "DataNew = []\n",
        "for ii in range(len(data)):\n",
        "  i = data[ii]\n",
        "  try:\n",
        "    if i[4] != \"NoAction\":\n",
        "      DataNew.append([i[0],i[1],i[2],i[4]])\n",
        "  except:\n",
        "    print(ii,i)\n",
        "data = DataNew"
      ],
      "execution_count": null,
      "outputs": [
        {
          "output_type": "stream",
          "text": [
            "445632 ['2009-11-19', '21:13:03.056227', 'ON']\n",
            "617394 ['2009-12-14', '19:25:40.098519', 'ON']\n"
          ],
          "name": "stdout"
        }
      ]
    },
    {
      "cell_type": "code",
      "metadata": {
        "id": "Y-tYDYOB6dYv"
      },
      "source": [
        "data = numpy.array(DataNew)\n",
        "data = pd.DataFrame(data)\n",
        "data.to_csv(\"DataTulum.csv\", index=False, header=False)"
      ],
      "execution_count": null,
      "outputs": []
    },
    {
      "cell_type": "markdown",
      "metadata": {
        "id": "1ZjYpfjt6dYv"
      },
      "source": [
        "# Action Model Tulum"
      ]
    },
    {
      "cell_type": "code",
      "metadata": {
        "id": "uEMFHef_67fy"
      },
      "source": [
        "import numpy\n",
        "import pandas as pd\n",
        "import keras\n",
        "\n",
        "import tensorflow as tf\n",
        "from tensorflow.keras.layers import *\n",
        "from tensorflow.keras.optimizers import *\n",
        "from tensorflow.keras.utils import to_categorical\n",
        "from tensorflow.keras.callbacks import EarlyStopping\n",
        "from tensorflow.keras.callbacks import ModelCheckpoint\n",
        "from tensorflow.keras.models import Sequential, Model, load_model\n",
        "from sklearn.metrics import classification_report, f1_score\n",
        "from tensorflow.keras import backend as K"
      ],
      "execution_count": null,
      "outputs": []
    },
    {
      "cell_type": "code",
      "metadata": {
        "id": "KtS8GpM067fz"
      },
      "source": [
        "def to_one(arr):\n",
        "  vals = list(set(arr))\n",
        "  ar = []\n",
        "  for i in range(len(arr)):\n",
        "    ar.append(vals.index(arr[i]))\n",
        "  return to_categorical(ar),vals"
      ],
      "execution_count": null,
      "outputs": []
    },
    {
      "cell_type": "code",
      "metadata": {
        "id": "hSSv9nj-67fz"
      },
      "source": [
        "d = pd.read_csv(\"DataTulum.csv\", header=None).to_numpy()\n",
        "data = []\n",
        "day = []\n",
        "time = []\n",
        "hour = []\n",
        "minute = []\n",
        "loct = []\n",
        "prevAct = []\n",
        "y = []\n",
        "for i in range(1,len(d)):\n",
        "  if d[i][4] != \"NoAction\":\n",
        "    data.append( [d[i][1], d[i][2][:5], d[i][3], d[i-1][4]] )\n",
        "    t = d[i][2][:5]\n",
        "    if t[-1] == \":\":\n",
        "      t = t[:-1]\n",
        "    day.append(d[i][1])\n",
        "    time.append(t)\n",
        "    colon = t.find(':')\n",
        "    hour.append(int(t[:colon]))\n",
        "    minute.append(int(t[colon+1:]))\n",
        "    loct.append(d[i][3])\n",
        "    if len(y)==0:\n",
        "      prevAct.append(\"Sleeping begin\")\n",
        "    else:\n",
        "      prevAct.append(y[-1])\n",
        "    y.append(d[i][4])\n",
        "hour = numpy.array(hour)\n",
        "minute = numpy.array(minute)"
      ],
      "execution_count": null,
      "outputs": []
    },
    {
      "cell_type": "code",
      "metadata": {
        "colab": {
          "base_uri": "https://localhost:8080/"
        },
        "id": "ySNSn9ZHjOBA",
        "outputId": "825d30de-c0ae-47f2-9a90-bd476b7520fd"
      },
      "source": [
        "print(hour.shape)\n",
        "print(minute.shape)\n",
        "time = hour*60 + minute\n",
        "time = numpy.reshape(time,(time.shape[0],1))\n",
        "print(time.shape)"
      ],
      "execution_count": null,
      "outputs": [
        {
          "output_type": "stream",
          "text": [
            "(25274,)\n",
            "(25274,)\n",
            "(25274, 1)\n"
          ],
          "name": "stdout"
        }
      ]
    },
    {
      "cell_type": "code",
      "metadata": {
        "id": "F0xE50YXAExX"
      },
      "source": [
        "loc = {\n",
        "       \"T001\":\"Kitchen\",\"T002\":\"Living\",\"T003\":\"Bedroom\",\"T004\":\"Bedroom\",\"T005\":\"Bath\",\n",
        "       \"M001\":\"Entrance\",\"M002\":\"Living\",\"M003\":\"Kitchen\",\"M004\":\"Stairs\",\"M005\":\"Hallway\",\n",
        "       \"M006\":\"Hallway\",\"M007\":\"Living\",\"M008\":\"Living\",\"M009\":\"Living\",\"M010\":\"Living\",\n",
        "       \"M011\":\"Living\",\"M012\":\"Living\",\"M013\":\"Kitchen\",\"M014\":\"Kitchen\",\"M015\":\"Kitchen\",\n",
        "       \"M016\":\"Kitchen\",\"M017\":\"Bedroom\",\"M018\":\"Bedroom\",\"M019\":\"Bedroom\",\"M020\":\"Bedroom\",\n",
        "       \"M021\":\"Bedroom\",\"M022\":\"Bedroom\",\"M023\":\"Stairs\",\"M024\":\"Door\",\"M025\":\"Bath\",\n",
        "       \"M026\":\"Bath\",\"M027\":\"Bath\",\"M028\":\"Bedroom\",\"M029\":\"Bedroom\",\"M030\":\"Bedroom\",\n",
        "       \"M031\":\"Bedroom\"  \n",
        "      }"
      ],
      "execution_count": null,
      "outputs": []
    },
    {
      "cell_type": "code",
      "metadata": {
        "id": "0dExp4B0BcuG"
      },
      "source": [
        "for i in range(len(loct)):\n",
        "  loct[i] = loc[loct[i]]"
      ],
      "execution_count": null,
      "outputs": []
    },
    {
      "cell_type": "code",
      "metadata": {
        "id": "A6ToG7qR67fz"
      },
      "source": [
        "day, _ = to_one(day)\n",
        "loct, _ = to_one(loct)\n",
        "prevAct, vals = to_one(prevAct)\n",
        "hour, _ = to_one(hour)\n",
        "minute, _ = to_one(minute)\n",
        "Y = []\n",
        "for i in range(len(y)):\n",
        "  Y.append(vals.index(y[i]))\n",
        "Y = to_categorical(Y)"
      ],
      "execution_count": null,
      "outputs": []
    },
    {
      "cell_type": "code",
      "metadata": {
        "colab": {
          "base_uri": "https://localhost:8080/"
        },
        "id": "SCqO4XqK67fz",
        "outputId": "9a825c8d-402a-4a4b-c49c-88fcca5aaf1b"
      },
      "source": [
        "print(day.shape,loct.shape,hour.shape,minute.shape,prevAct.shape,Y.shape,time.shape)"
      ],
      "execution_count": null,
      "outputs": [
        {
          "output_type": "stream",
          "text": [
            "(25274, 7) (25274, 8) (25274, 24) (25274, 60) (25274, 35) (25274, 35) (25274, 1)\n"
          ],
          "name": "stdout"
        }
      ]
    },
    {
      "cell_type": "code",
      "metadata": {
        "id": "ftlzfCz167f1"
      },
      "source": [
        "trainEnd = 16000\n",
        "valEnd = 20000\n",
        "trainX = [day[:trainEnd],loct[:trainEnd],hour[:trainEnd],minute[:trainEnd],prevAct[:trainEnd],time[:trainEnd]]\n",
        "#trainX = [day[:trainEnd],loct[:trainEnd],hour[:trainEnd],minute[:trainEnd],prevAct[:trainEnd]]\n",
        "\n",
        "trainY = Y[:trainEnd]\n",
        "valX = [day[trainEnd:valEnd],loct[trainEnd:valEnd],hour[trainEnd:valEnd],minute[trainEnd:valEnd],prevAct[trainEnd:valEnd],time[trainEnd:valEnd]]\n",
        "#valX = [day[trainEnd:valEnd],loct[trainEnd:valEnd],hour[trainEnd:valEnd],minute[trainEnd:valEnd],prevAct[trainEnd:valEnd]]\n",
        "\n",
        "valY = Y[trainEnd:valEnd]\n",
        "testX = [day[valEnd:],loct[valEnd:],hour[valEnd:],minute[valEnd:],prevAct[valEnd:],time[valEnd:]]\n",
        "#testX = [day[valEnd:],loct[valEnd:],hour[valEnd:],minute[valEnd:],prevAct[valEnd:]]\n",
        "\n",
        "testY = Y[valEnd:]"
      ],
      "execution_count": null,
      "outputs": []
    },
    {
      "cell_type": "code",
      "metadata": {
        "id": "PEX1dcN-67f2"
      },
      "source": [
        "Days = Input(shape=(7,))\n",
        "Locts = Input(shape=(8,))\n",
        "PrevActs = Input(shape=(35,))\n",
        "Hours = Input(shape=(24,))\n",
        "Minutes = Input(shape=(60,))\n",
        "#Time = Input(shape=(1,))\n",
        "\n",
        "Day = Dense(16, activation=\"relu\", input_shape=(7,))(Days)\n",
        "\n",
        "Loct = Dense(16, activation=\"relu\", input_shape=(11,))(Locts)\n",
        "\n",
        "PrevAct = Dense(16, activation=\"relu\")(PrevActs)\n",
        "\n",
        "Hour = Dense(16, activation=\"relu\", input_shape=(24,))(Hours)\n",
        "Minute = Dense(16, activation=\"relu\", input_shape=(60,))(Minutes)\n",
        "#Time = concatenate([Hour, Minute])\n",
        "#Time = Dense(16, activation=\"relu\")(Time)\n",
        "#Time1 = Dense(16, activation=\"relu\", input_shape=(1,))(Time)\n",
        "\n",
        "X = concatenate([Day, Loct, Hour, Minute, PrevAct])\n",
        "\n",
        "X = Dense(64, activation=\"relu\")(X)\n",
        "y = Dense(35, activation=\"softmax\")(X)\n",
        "\n",
        "model = Model(inputs=[Days, Locts, Hours, Minutes, PrevActs], outputs=y)\n",
        "opt = Adam(lr=0.01)\n",
        "model.compile(loss=\"categorical_crossentropy\", optimizer=opt, metrics=[\"accuracy\"])"
      ],
      "execution_count": null,
      "outputs": []
    },
    {
      "cell_type": "code",
      "metadata": {
        "id": "8PLwFGlq67f2"
      },
      "source": [
        "mc = ModelCheckpoint('Best_Model.h5', monitor='val_loss', mode='min', verbose=0, save_best_only=True)\n",
        "history = model.fit(\n",
        "    trainX, trainY, validation_data=(valX, valY), batch_size=64,\n",
        "    epochs=200, callbacks=[mc], verbose=0)"
      ],
      "execution_count": null,
      "outputs": []
    },
    {
      "cell_type": "code",
      "metadata": {
        "colab": {
          "base_uri": "https://localhost:8080/"
        },
        "id": "zaElyuOY67f2",
        "outputId": "b111f462-2d9f-4d1e-aab0-616bf3b9ed25"
      },
      "source": [
        "model = load_model(\"Best_Model.h5\")\n",
        "Ypred1 = model.predict(valX)\n",
        "Yp = numpy.argmax(Ypred1,axis=1)\n",
        "Ya = numpy.argmax(valY,axis=1)\n",
        "YP = []\n",
        "YA = []\n",
        "for i in range(len(Yp)):\n",
        "  YP.append(vals[Yp[i]])\n",
        "  YA.append(vals[Ya[i]])\n",
        "print(classification_report(YA,YP))\n",
        "print(\"Micro F1-Score:\",f1_score(YA,YP,average='micro'))\n",
        "print(\"Macro F1-Score:\",f1_score(YA,YP,average='macro'))\n",
        "print(\"Weighted F1-Score:\",f1_score(YA,YP,average='weighted'))"
      ],
      "execution_count": null,
      "outputs": [
        {
          "output_type": "stream",
          "text": [
            "                             precision    recall  f1-score   support\n",
            "\n",
            "              Bathing begin       0.40      0.33      0.36        70\n",
            "                Bathing end       0.83      0.75      0.79        69\n",
            "Bed_Toilet_Transition begin       0.89      0.89      0.89        18\n",
            "  Bed_Toilet_Transition end       1.00      1.00      1.00        18\n",
            "               Eating begin       0.51      0.51      0.51        96\n",
            "                 Eating end       1.00      0.94      0.97        96\n",
            "           Enter_Home begin       1.00      0.93      0.97        15\n",
            "             Enter_Home end       1.00      1.00      1.00        15\n",
            "           Leave_Home begin       0.85      0.73      0.79        15\n",
            "             Leave_Home end       1.00      1.00      1.00        15\n",
            "     Meal_Preparation begin       0.67      0.76      0.71       359\n",
            "       Meal_Preparation end       1.00      0.96      0.98       360\n",
            "     Personal_Hygiene begin       0.68      0.79      0.73       188\n",
            "       Personal_Hygiene end       0.97      0.92      0.94       188\n",
            "   R1_Sleeping_in_Bed begin       0.00      0.00      0.00        19\n",
            "     R1_Sleeping_in_Bed end       0.94      0.79      0.86        19\n",
            "   R2_Sleeping_in_Bed begin       0.57      0.72      0.63        18\n",
            "     R2_Sleeping_in_Bed end       0.27      0.33      0.30        18\n",
            "          Wash_Dishes begin       0.47      0.32      0.38        53\n",
            "            Wash_Dishes end       0.88      0.81      0.84        53\n",
            "             Watch_TV begin       0.85      0.97      0.91       271\n",
            "               Watch_TV end       0.98      0.94      0.96       271\n",
            "       Work_Bedroom_1 begin       0.25      0.02      0.03       126\n",
            "         Work_Bedroom_1 end       0.96      0.90      0.93       126\n",
            "       Work_Bedroom_2 begin       0.56      0.87      0.68       255\n",
            "         Work_Bedroom_2 end       0.97      0.96      0.96       253\n",
            "        Work_LivingRm begin       0.96      0.90      0.93       297\n",
            "          Work_LivingRm end       1.00      0.98      0.99       297\n",
            "           Work_Table begin       0.57      0.55      0.56       201\n",
            "             Work_Table end       0.92      0.91      0.91       201\n",
            "\n",
            "                   accuracy                           0.82      4000\n",
            "                  macro avg       0.76      0.75      0.75      4000\n",
            "               weighted avg       0.81      0.82      0.81      4000\n",
            "\n",
            "Micro F1-Score: 0.82175\n",
            "Macro F1-Score: 0.7504985237181783\n",
            "Weighted F1-Score: 0.8109971273011564\n"
          ],
          "name": "stdout"
        },
        {
          "output_type": "stream",
          "text": [
            "/usr/local/lib/python3.6/dist-packages/sklearn/metrics/_classification.py:1272: UndefinedMetricWarning: Precision and F-score are ill-defined and being set to 0.0 in labels with no predicted samples. Use `zero_division` parameter to control this behavior.\n",
            "  _warn_prf(average, modifier, msg_start, len(result))\n"
          ],
          "name": "stderr"
        }
      ]
    },
    {
      "cell_type": "code",
      "metadata": {
        "colab": {
          "base_uri": "https://localhost:8080/"
        },
        "id": "4IjdXXlY67f2",
        "outputId": "0841f15e-25f9-4872-cbfb-3a25286c7be9"
      },
      "source": [
        "model = load_model(\"Best_Model.h5\")\n",
        "Ypred1 = model.predict(testX)\n",
        "Yp = numpy.argmax(Ypred1,axis=1)\n",
        "Ya = numpy.argmax(testY,axis=1)\n",
        "YP = []\n",
        "YA = []\n",
        "for i in range(len(Yp)):\n",
        "  YP.append(vals[Yp[i]])\n",
        "  YA.append(vals[Ya[i]])\n",
        "print(classification_report(YA,YP))\n",
        "print(\"Micro F1-Score:\",f1_score(YA,YP,average='micro'))\n",
        "print(\"Macro F1-Score:\",f1_score(YA,YP,average='macro'))\n",
        "print(\"Weighted F1-Score:\",f1_score(YA,YP,average='weighted'))"
      ],
      "execution_count": null,
      "outputs": [
        {
          "output_type": "stream",
          "text": [
            "                             precision    recall  f1-score   support\n",
            "\n",
            "              Bathing begin       0.31      0.43      0.36        82\n",
            "                Bathing end       0.83      0.71      0.77        83\n",
            "Bed_Toilet_Transition begin       1.00      0.96      0.98        23\n",
            "  Bed_Toilet_Transition end       1.00      1.00      1.00        23\n",
            "               Eating begin       0.30      0.42      0.35        71\n",
            "                 Eating end       0.98      0.85      0.91        71\n",
            "           Enter_Home begin       0.96      0.85      0.90        26\n",
            "             Enter_Home end       1.00      1.00      1.00        26\n",
            "           Leave_Home begin       0.58      0.96      0.72        26\n",
            "             Leave_Home end       0.96      0.96      0.96        26\n",
            "     Meal_Preparation begin       0.67      0.72      0.70       458\n",
            "       Meal_Preparation end       0.99      0.93      0.96       458\n",
            "     Personal_Hygiene begin       0.74      0.77      0.76       280\n",
            "       Personal_Hygiene end       0.97      0.90      0.93       280\n",
            "   R1_Sleeping_in_Bed begin       0.00      0.00      0.00        21\n",
            "     R1_Sleeping_in_Bed end       0.95      0.95      0.95        21\n",
            "   R2_Sleeping_in_Bed begin       0.59      0.81      0.68        21\n",
            "     R2_Sleeping_in_Bed end       0.64      0.67      0.65        21\n",
            "          Wash_Dishes begin       0.46      0.27      0.34        22\n",
            "            Wash_Dishes end       1.00      0.82      0.90        22\n",
            "             Watch_TV begin       0.81      0.97      0.88       307\n",
            "               Watch_TV end       0.97      0.90      0.94       307\n",
            "       Work_Bedroom_1 begin       0.70      0.05      0.10       570\n",
            "         Work_Bedroom_1 end       0.97      0.93      0.95       570\n",
            "       Work_Bedroom_2 begin       0.33      0.90      0.48       334\n",
            "         Work_Bedroom_2 end       0.95      0.92      0.94       335\n",
            "        Work_LivingRm begin       0.94      0.69      0.80       169\n",
            "          Work_LivingRm end       0.98      0.95      0.96       169\n",
            "           Work_Table begin       0.50      0.47      0.48       226\n",
            "             Work_Table end       0.92      0.86      0.89       226\n",
            "\n",
            "                   accuracy                           0.75      5274\n",
            "                  macro avg       0.77      0.75      0.74      5274\n",
            "               weighted avg       0.80      0.75      0.73      5274\n",
            "\n",
            "Micro F1-Score: 0.7491467576791809\n",
            "Macro F1-Score: 0.7411921895963247\n",
            "Weighted F1-Score: 0.7333710328909473\n"
          ],
          "name": "stdout"
        },
        {
          "output_type": "stream",
          "text": [
            "/usr/local/lib/python3.6/dist-packages/sklearn/metrics/_classification.py:1272: UndefinedMetricWarning: Precision and F-score are ill-defined and being set to 0.0 in labels with no predicted samples. Use `zero_division` parameter to control this behavior.\n",
            "  _warn_prf(average, modifier, msg_start, len(result))\n"
          ],
          "name": "stderr"
        }
      ]
    },
    {
      "cell_type": "code",
      "metadata": {
        "colab": {
          "base_uri": "https://localhost:8080/",
          "height": 295
        },
        "id": "2INNn0TR67f2",
        "outputId": "682157cd-2942-43df-f5e9-3e13b60e11de"
      },
      "source": [
        "import matplotlib.pyplot as plt\n",
        "\n",
        "plt.plot(history.history['loss'], label='Training')\n",
        "plt.plot(history.history['val_loss'], label='Validation')\n",
        "plt.title('Categorical Cross Entropy')\n",
        "plt.ylabel('Error')\n",
        "plt.xlabel('Epoch')\n",
        "plt.legend(loc=\"upper left\")\n",
        "plt.show()"
      ],
      "execution_count": null,
      "outputs": [
        {
          "output_type": "display_data",
          "data": {
            "image/png": "[encoded data removed]",
            "text/plain": [
              "<Figure size 432x288 with 1 Axes>"
            ]
          },
          "metadata": {
            "tags": [],
            "needs_background": "light"
          }
        }
      ]
    },
    {
      "cell_type": "code",
      "metadata": {
        "id": "GLHnzP9p9JLk",
        "colab": {
          "base_uri": "https://localhost:8080/"
        },
        "outputId": "949603e2-5a38-46e5-b5cc-6b5a77db831b"
      },
      "source": [
        "trainset = trainX[0]\n",
        "for i in range(1,len(trainX)):\n",
        "  print(trainset.shape)\n",
        "  print(trainX[i].shape)\n",
        "  trainset = numpy.concatenate((trainset,trainX[i]),axis=1)\n",
        "\n",
        "valset = valX[0]\n",
        "for i in range(1,len(valX)):\n",
        "  print(valset.shape)\n",
        "  print(valX[i].shape)\n",
        "  valset = numpy.concatenate((valset,valX[i]),axis=1)\n",
        "\n",
        "testset = testX[0]\n",
        "for i in range(1,len(testX)):\n",
        "  print(testset.shape)\n",
        "  print(testX[i].shape)\n",
        "  testset = numpy.concatenate((testset,testX[i]),axis=1)\n",
        "\n",
        "print(trainset.shape)\n",
        "print(valset.shape)\n",
        "print(testset.shape)\n",
        "print(trainY.shape)\n",
        "print(valY.shape)"
      ],
      "execution_count": null,
      "outputs": [
        {
          "output_type": "stream",
          "text": [
            "(16000, 7)\n",
            "(16000, 8)\n",
            "(16000, 15)\n",
            "(16000, 24)\n",
            "(16000, 39)\n",
            "(16000, 60)\n",
            "(16000, 99)\n",
            "(16000, 35)\n",
            "(16000, 134)\n",
            "(16000, 1)\n",
            "(4000, 7)\n",
            "(4000, 8)\n",
            "(4000, 15)\n",
            "(4000, 24)\n",
            "(4000, 39)\n",
            "(4000, 60)\n",
            "(4000, 99)\n",
            "(4000, 35)\n",
            "(4000, 134)\n",
            "(4000, 1)\n",
            "(5274, 7)\n",
            "(5274, 8)\n",
            "(5274, 15)\n",
            "(5274, 24)\n",
            "(5274, 39)\n",
            "(5274, 60)\n",
            "(5274, 99)\n",
            "(5274, 35)\n",
            "(5274, 134)\n",
            "(5274, 1)\n",
            "(16000, 135)\n",
            "(4000, 135)\n",
            "(5274, 135)\n",
            "(16000, 35)\n",
            "(4000, 35)\n"
          ],
          "name": "stdout"
        }
      ]
    },
    {
      "cell_type": "code",
      "metadata": {
        "id": "QdLbyPwNurwW"
      },
      "source": [
        "X = Input(shape=(135,))\n",
        "\n",
        "H1 = Dense(36, activation=\"relu\", input_shape=(7,))(X)\n",
        "\n",
        "H2 = Dense(16, activation=\"relu\")(H1)\n",
        "y = Dense(35, activation=\"softmax\")(H2)\n",
        "\n",
        "model = Model(inputs=X, outputs=y)\n",
        "\n",
        "opt = Adam(lr=0.0001)\n",
        "model.compile(loss=\"categorical_crossentropy\", optimizer=opt, metrics=[\"accuracy\"])"
      ],
      "execution_count": null,
      "outputs": []
    },
    {
      "cell_type": "code",
      "metadata": {
        "id": "GIzwdXzLuwHK"
      },
      "source": [
        "mc = ModelCheckpoint('Best_Model.h5', monitor='val_loss', mode='min', verbose=0, save_best_only=True)\n",
        "history = model.fit(\n",
        "    trainset, trainY, validation_data=(valset, valY), batch_size=128,\n",
        "    epochs=100, callbacks=[mc], verbose=0)"
      ],
      "execution_count": null,
      "outputs": []
    },
    {
      "cell_type": "code",
      "metadata": {
        "colab": {
          "base_uri": "https://localhost:8080/"
        },
        "id": "JRc470sCu0pL",
        "outputId": "457eb07d-cb0b-4cf9-cd07-2cf54f136fda"
      },
      "source": [
        "model = load_model(\"Best_Model.h5\")\n",
        "Ypred1 = model.predict(valset)\n",
        "Yp = numpy.argmax(Ypred1,axis=1)\n",
        "Ya = numpy.argmax(valY,axis=1)\n",
        "YP = []\n",
        "YA = []\n",
        "for i in range(len(Yp)):\n",
        "  YP.append(vals[Yp[i]])\n",
        "  YA.append(vals[Ya[i]])\n",
        "print(classification_report(YA,YP))\n",
        "print(\"Micro F1-Score:\",f1_score(YA,YP,average='micro'))\n",
        "print(\"Macro F1-Score:\",f1_score(YA,YP,average='macro'))\n",
        "print(\"Weighted F1-Score:\",f1_score(YA,YP,average='weighted'))"
      ],
      "execution_count": null,
      "outputs": [
        {
          "output_type": "stream",
          "text": [
            "                             precision    recall  f1-score   support\n",
            "\n",
            "              Bathing begin       0.55      0.23      0.32        70\n",
            "                Bathing end       0.73      0.78      0.76        69\n",
            "Bed_Toilet_Transition begin       1.00      0.67      0.80        18\n",
            "  Bed_Toilet_Transition end       1.00      0.94      0.97        18\n",
            "               Eating begin       0.78      0.33      0.47        96\n",
            "                 Eating end       1.00      0.94      0.97        96\n",
            "           Enter_Home begin       0.87      0.87      0.87        15\n",
            "             Enter_Home end       1.00      0.73      0.85        15\n",
            "           Leave_Home begin       0.00      0.00      0.00        15\n",
            "             Leave_Home end       0.83      0.67      0.74        15\n",
            "     Meal_Preparation begin       0.64      0.86      0.73       359\n",
            "       Meal_Preparation end       0.98      0.96      0.97       360\n",
            "     Personal_Hygiene begin       0.71      0.88      0.79       188\n",
            "       Personal_Hygiene end       0.92      0.93      0.92       188\n",
            "   R1_Sleeping_in_Bed begin       0.00      0.00      0.00        19\n",
            "     R1_Sleeping_in_Bed end       0.94      0.84      0.89        19\n",
            "   R2_Sleeping_in_Bed begin       0.67      0.44      0.53        18\n",
            "     R2_Sleeping_in_Bed end       0.00      0.00      0.00        18\n",
            "          Wash_Dishes begin       0.37      0.13      0.19        53\n",
            "            Wash_Dishes end       0.81      0.81      0.81        53\n",
            "             Watch_TV begin       0.74      0.94      0.83       271\n",
            "               Watch_TV end       0.97      0.94      0.96       271\n",
            "       Work_Bedroom_1 begin       0.46      0.21      0.29       126\n",
            "         Work_Bedroom_1 end       0.97      0.90      0.93       126\n",
            "       Work_Bedroom_2 begin       0.59      0.85      0.70       255\n",
            "         Work_Bedroom_2 end       0.96      0.97      0.96       253\n",
            "        Work_LivingRm begin       0.95      0.78      0.86       297\n",
            "          Work_LivingRm end       0.97      0.98      0.98       297\n",
            "           Work_Table begin       0.53      0.51      0.52       201\n",
            "             Work_Table end       0.95      0.91      0.93       201\n",
            "\n",
            "                   accuracy                           0.81      4000\n",
            "                  macro avg       0.73      0.67      0.68      4000\n",
            "               weighted avg       0.81      0.81      0.80      4000\n",
            "\n",
            "Micro F1-Score: 0.8119999999999999\n",
            "Macro F1-Score: 0.6845351399364628\n",
            "Weighted F1-Score: 0.7980436573184368\n"
          ],
          "name": "stdout"
        },
        {
          "output_type": "stream",
          "text": [
            "/usr/local/lib/python3.7/dist-packages/sklearn/metrics/_classification.py:1272: UndefinedMetricWarning: Precision and F-score are ill-defined and being set to 0.0 in labels with no predicted samples. Use `zero_division` parameter to control this behavior.\n",
            "  _warn_prf(average, modifier, msg_start, len(result))\n"
          ],
          "name": "stderr"
        }
      ]
    },
    {
      "cell_type": "code",
      "metadata": {
        "colab": {
          "base_uri": "https://localhost:8080/"
        },
        "id": "0cJqqYR2u5hA",
        "outputId": "9d4fe263-803b-468a-b766-ecd85f321bb2"
      },
      "source": [
        "model = load_model(\"Best_Model.h5\")\n",
        "Ypred1 = model.predict(testset)\n",
        "Yp = numpy.argmax(Ypred1,axis=1)\n",
        "Ya = numpy.argmax(testY,axis=1)\n",
        "YP = []\n",
        "YA = []\n",
        "for i in range(len(Yp)):\n",
        "  YP.append(vals[Yp[i]])\n",
        "  YA.append(vals[Ya[i]])\n",
        "print(classification_report(YA,YP))\n",
        "print(\"Micro F1-Score:\",f1_score(YA,YP,average='micro'))\n",
        "print(\"Macro F1-Score:\",f1_score(YA,YP,average='macro'))\n",
        "print(\"Weighted F1-Score:\",f1_score(YA,YP,average='weighted'))"
      ],
      "execution_count": null,
      "outputs": [
        {
          "output_type": "stream",
          "text": [
            "                             precision    recall  f1-score   support\n",
            "\n",
            "              Bathing begin       0.47      0.23      0.31        82\n",
            "                Bathing end       0.62      0.75      0.68        83\n",
            "Bed_Toilet_Transition begin       1.00      0.83      0.90        23\n",
            "  Bed_Toilet_Transition end       0.95      0.87      0.91        23\n",
            "               Eating begin       0.33      0.15      0.21        71\n",
            "                 Eating end       0.98      0.85      0.91        71\n",
            "           Enter_Home begin       0.81      0.85      0.83        26\n",
            "             Enter_Home end       1.00      0.92      0.96        26\n",
            "           Leave_Home begin       0.00      0.00      0.00        26\n",
            "             Leave_Home end       0.81      0.85      0.83        26\n",
            "     Meal_Preparation begin       0.65      0.75      0.70       458\n",
            "       Meal_Preparation end       0.96      0.95      0.95       458\n",
            "     Personal_Hygiene begin       0.74      0.86      0.80       280\n",
            "       Personal_Hygiene end       0.92      0.91      0.92       280\n",
            "   R1_Sleeping_in_Bed begin       0.00      0.00      0.00        21\n",
            "     R1_Sleeping_in_Bed end       0.95      1.00      0.98        21\n",
            "   R2_Sleeping_in_Bed begin       0.71      0.24      0.36        21\n",
            "     R2_Sleeping_in_Bed end       0.00      0.00      0.00        21\n",
            "          Wash_Dishes begin       0.00      0.00      0.00        22\n",
            "            Wash_Dishes end       0.64      0.82      0.72        22\n",
            "             Watch_TV begin       0.69      0.95      0.80       307\n",
            "               Watch_TV end       0.97      0.89      0.93       307\n",
            "       Work_Bedroom_1 begin       0.55      0.17      0.26       570\n",
            "         Work_Bedroom_1 end       0.97      0.93      0.95       570\n",
            "       Work_Bedroom_2 begin       0.32      0.77      0.46       334\n",
            "         Work_Bedroom_2 end       0.89      0.93      0.91       335\n",
            "        Work_LivingRm begin       0.92      0.57      0.71       169\n",
            "          Work_LivingRm end       0.95      0.93      0.94       169\n",
            "           Work_Table begin       0.51      0.52      0.52       226\n",
            "             Work_Table end       0.95      0.85      0.90       226\n",
            "\n",
            "                   accuracy                           0.74      5274\n",
            "                  macro avg       0.68      0.64      0.64      5274\n",
            "               weighted avg       0.75      0.74      0.73      5274\n",
            "\n",
            "Micro F1-Score: 0.7400455062571104\n",
            "Macro F1-Score: 0.6443312889323182\n",
            "Weighted F1-Score: 0.7257278011164082\n"
          ],
          "name": "stdout"
        },
        {
          "output_type": "stream",
          "text": [
            "/usr/local/lib/python3.7/dist-packages/sklearn/metrics/_classification.py:1272: UndefinedMetricWarning: Precision and F-score are ill-defined and being set to 0.0 in labels with no predicted samples. Use `zero_division` parameter to control this behavior.\n",
            "  _warn_prf(average, modifier, msg_start, len(result))\n"
          ],
          "name": "stderr"
        }
      ]
    },
    {
      "cell_type": "code",
      "metadata": {
        "id": "E3yRuw-XvwPH"
      },
      "source": [
        ""
      ],
      "execution_count": null,
      "outputs": []
    }
  ]
}