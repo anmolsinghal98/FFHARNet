{
  "nbformat": 4,
  "nbformat_minor": 0,
  "metadata": {
    "colab": {
      "name": "IP Binning.ipynb",
      "provenance": [],
      "collapsed_sections": [
        "RuwuM_BkPu3Z",
        "Po4tvE0zkiba",
        "5GmsPldHk9P1",
        "NwdtXGICbYrE",
        "ZCo6hqBw_cNP",
        "1AF2BY5tcinc",
        "17QdzUCndlKN",
        "codEiICX6Kqc"
      ],
      "toc_visible": true
    },
    "kernelspec": {
      "name": "python3",
      "display_name": "Python 3"
    },
    "accelerator": "GPU"
  },
  "cells": [
    {
      "cell_type": "code",
      "metadata": {
        "id": "-eKFYKvcaBsZ"
      },
      "source": [
        "# path = '/content/drive/My Drive/IP Data/data.csv'\n",
        "path = \"IP Data Robot Actions - IP Data.csv\""
      ],
      "execution_count": null,
      "outputs": []
    },
    {
      "cell_type": "code",
      "metadata": {
        "id": "lZbQANPNav8q",
        "colab": {
          "base_uri": "https://localhost:8080/",
          "height": 121
        },
        "outputId": "5898ff42-285b-4539-baa8-609e8a34804e"
      },
      "source": [
        "from google.colab import drive\n",
        "drive.mount('/content/drive')"
      ],
      "execution_count": null,
      "outputs": [
        {
          "output_type": "stream",
          "text": [
            "Go to this URL in a browser: https://accounts.google.com/o/oauth2/auth?client_id=947318989803-6bn6qk8qdgf4n4g3pfee6491hc0brc4i.apps.googleusercontent.com&redirect_uri=urn%3aietf%3awg%3aoauth%3a2.0%3aoob&scope=email%20https%3a%2f%2fwww.googleapis.com%2fauth%2fdocs.test%20https%3a%2f%2fwww.googleapis.com%2fauth%2fdrive%20https%3a%2f%2fwww.googleapis.com%2fauth%2fdrive.photos.readonly%20https%3a%2f%2fwww.googleapis.com%2fauth%2fpeopleapi.readonly&response_type=code\n",
            "\n",
            "Enter your authorization code:\n",
            "··········\n",
            "Mounted at /content/drive\n"
          ],
          "name": "stdout"
        }
      ]
    },
    {
      "cell_type": "code",
      "metadata": {
        "id": "OF6yy1W3EFgI"
      },
      "source": [
        "import numpy\n",
        "import pandas as pd\n",
        "import keras\n",
        "\n",
        "import tensorflow as tf\n",
        "from tensorflow.keras.layers import *\n",
        "from tensorflow.keras.optimizers import *\n",
        "from tensorflow.keras.utils import to_categorical\n",
        "from tensorflow.keras.callbacks import EarlyStopping\n",
        "from tensorflow.keras.callbacks import ModelCheckpoint\n",
        "from tensorflow.keras.models import Sequential, Model, load_model\n",
        "from sklearn.metrics import classification_report, f1_score\n",
        "from tensorflow.keras import backend as K"
      ],
      "execution_count": null,
      "outputs": []
    },
    {
      "cell_type": "code",
      "metadata": {
        "id": "f5soBBPBHGB1"
      },
      "source": [
        "def to_one(arr):\n",
        "  vals = list(set(arr))\n",
        "  ar = []\n",
        "  for i in range(len(arr)):\n",
        "    ar.append(vals.index(arr[i]))\n",
        "  return to_categorical(ar),vals"
      ],
      "execution_count": null,
      "outputs": []
    },
    {
      "cell_type": "markdown",
      "metadata": {
        "id": "RuwuM_BkPu3Z"
      },
      "source": [
        "# DL Model\n",
        "\n"
      ]
    },
    {
      "cell_type": "code",
      "metadata": {
        "id": "4LMtkmrgPxUO"
      },
      "source": [
        "d = pd.read_csv(path, header=None).to_numpy()\n",
        "data = []\n",
        "for i in range(1,len(d)):\n",
        "  data.append( [d[i][1], d[i][2], d[i][3], d[i-1][4]] )\n",
        "  if d[i][4]==\"NoAction\": \n",
        "    data[-1][-1] = 0\n",
        "  else:\n",
        "    data[-1][-1] = 1"
      ],
      "execution_count": null,
      "outputs": []
    },
    {
      "cell_type": "code",
      "metadata": {
        "id": "MrAtS4_6P1Iw"
      },
      "source": [
        "Data = []\n",
        "for i in range(0,len(data),5):\n",
        "  l = False\n",
        "  for j in range(i,min(i+5,len(data))):\n",
        "    if data[j][-1] == 1:\n",
        "      l = True\n",
        "  d = []\n",
        "  if l:\n",
        "    for j in range(i,min(i+5,len(data))):\n",
        "      if data[j][-1] == 1:\n",
        "        d = data[j]\n",
        "        d[1] = data[i][1]\n",
        "  else:\n",
        "    d = data[i]\n",
        "  Data.append(d)"
      ],
      "execution_count": null,
      "outputs": []
    },
    {
      "cell_type": "code",
      "metadata": {
        "id": "JXCNazqkcw_p"
      },
      "source": [
        "day = []\n",
        "time = []\n",
        "hour = []\n",
        "minute = []\n",
        "loct = []\n",
        "y = []\n",
        "for i in range(len(Data)):\n",
        "  day.append(Data[i][0])\n",
        "  time.append(Data[i][1])\n",
        "  colon = Data[i][1].find(':')\n",
        "  hour.append(int(Data[i][1][:colon]))\n",
        "  minute.append(int(Data[i][1][colon+1:]))\n",
        "  loct.append(Data[i][2])\n",
        "  y.append(Data[i][3])\n",
        "hour = numpy.array(hour)\n",
        "minute = numpy.array(minute)\n",
        "Y = numpy.array(y)"
      ],
      "execution_count": null,
      "outputs": []
    },
    {
      "cell_type": "code",
      "metadata": {
        "id": "uQAhSYu0cw_t"
      },
      "source": [
        "day, _ = to_one(day)\n",
        "loct, _ = to_one(loct)"
      ],
      "execution_count": null,
      "outputs": []
    },
    {
      "cell_type": "code",
      "metadata": {
        "id": "LMYVrDXRcw_v",
        "colab": {
          "base_uri": "https://localhost:8080/",
          "height": 34
        },
        "outputId": "4b666709-b4a1-4ab2-fcaa-d33813d97d8a"
      },
      "source": [
        "print(day.shape,loct.shape,hour.shape,minute.shape,Y.shape)"
      ],
      "execution_count": null,
      "outputs": [
        {
          "output_type": "stream",
          "text": [
            "(63360, 7) (63360, 11) (63360,) (63360,) (63360,)\n"
          ],
          "name": "stdout"
        }
      ]
    },
    {
      "cell_type": "code",
      "metadata": {
        "id": "MSC4NeFNcw_z"
      },
      "source": [
        "trainX = [day[:50000],loct[:50000],hour[:50000],minute[:50000]]\n",
        "trainY = Y[:50000]\n",
        "valX_dl = [day[50000:],loct[50000:],hour[50000:],minute[50000:]]\n",
        "valY = Y[50000:]"
      ],
      "execution_count": null,
      "outputs": []
    },
    {
      "cell_type": "code",
      "metadata": {
        "id": "FVia9btecw_1"
      },
      "source": [
        "Days = Input(shape=(7,))\n",
        "Locts = Input(shape=(11,))\n",
        "Hours = Input(shape=(1,))\n",
        "Minutes = Input(shape=(1,))\n",
        "\n",
        "Day = Dense(8, activation=\"relu\", input_shape=(7,))(Days)\n",
        "\n",
        "Loct = Dense(8, activation=\"relu\", input_shape=(11,))(Locts)\n",
        "\n",
        "Hour = Dense(8, activation=\"relu\", input_shape=(1,))(Hours)\n",
        "Minute = Dense(8, activation=\"relu\", input_shape=(1,))(Minutes)\n",
        "Time = concatenate([Hour, Minute])\n",
        "Time = Dense(8, activation=\"relu\")(Time)\n",
        "\n",
        "X = concatenate([Day, Loct, Time])\n",
        "y = Dense(1, activation=\"sigmoid\")(X)\n",
        "\n",
        "model = Model(inputs=[Days, Locts, Hours, Minutes], outputs=y)\n",
        "opt = Adam(lr=0.001)\n",
        "model.compile(loss=\"binary_crossentropy\", optimizer=opt, metrics=[\"accuracy\"])"
      ],
      "execution_count": null,
      "outputs": []
    },
    {
      "cell_type": "code",
      "metadata": {
        "id": "7OKQx7Nicw_2",
        "colab": {
          "base_uri": "https://localhost:8080/",
          "height": 353
        },
        "outputId": "40d10991-e35e-407e-ba85-ef060296df67"
      },
      "source": [
        "mc = ModelCheckpoint('Best_Model_dl.h5', monitor='val_loss', mode='min', verbose=0, save_best_only=True)\n",
        "history = model.fit(\n",
        "    trainX, trainY, validation_data=(valX_dl, valY), batch_size=64,\n",
        "    epochs=40, callbacks=[mc], verbose=1, class_weight={0:1,1:7})"
      ],
      "execution_count": null,
      "outputs": [
        {
          "output_type": "stream",
          "text": [
            "Epoch 1/40\n",
            "782/782 [==============================] - 3s 4ms/step - loss: 1.1942 - accuracy: 0.5501 - val_loss: 0.6077 - val_accuracy: 0.6424\n",
            "Epoch 2/40\n",
            "782/782 [==============================] - 3s 3ms/step - loss: 1.0502 - accuracy: 0.6296 - val_loss: 0.6388 - val_accuracy: 0.6359\n",
            "Epoch 3/40\n",
            "782/782 [==============================] - 3s 3ms/step - loss: 1.0477 - accuracy: 0.6267 - val_loss: 0.6846 - val_accuracy: 0.6359\n",
            "Epoch 4/40\n",
            "782/782 [==============================] - 3s 3ms/step - loss: 1.0474 - accuracy: 0.6264 - val_loss: 0.5914 - val_accuracy: 0.6359\n",
            "Epoch 5/40\n",
            "782/782 [==============================] - 3s 3ms/step - loss: 1.0451 - accuracy: 0.6257 - val_loss: 0.6426 - val_accuracy: 0.6361\n",
            "Epoch 6/40\n",
            "782/782 [==============================] - 3s 4ms/step - loss: 1.0456 - accuracy: 0.6254 - val_loss: 0.5957 - val_accuracy: 0.6359\n",
            "Epoch 7/40\n",
            "782/782 [==============================] - 3s 4ms/step - loss: 1.0453 - accuracy: 0.6258 - val_loss: 0.6140 - val_accuracy: 0.6359\n",
            "Epoch 8/40\n",
            "782/782 [==============================] - 3s 4ms/step - loss: 1.0453 - accuracy: 0.6256 - val_loss: 0.6509 - val_accuracy: 0.6359\n",
            "Epoch 9/40\n",
            "782/782 [==============================] - 3s 4ms/step - loss: 1.0448 - accuracy: 0.6261 - val_loss: 0.6773 - val_accuracy: 0.6359\n",
            "Epoch 10/40\n",
            "629/782 [=======================>......] - ETA: 0s - loss: 1.0451 - accuracy: 0.6261"
          ],
          "name": "stdout"
        }
      ]
    },
    {
      "cell_type": "code",
      "metadata": {
        "id": "biYlRfyNcw_4"
      },
      "source": [
        "model = load_model(\"Best_Model_dl.h5\")\n",
        "Ypred = model.predict(valX_dl)\n",
        "print(classification_report(valY,Ypred.round()))"
      ],
      "execution_count": null,
      "outputs": []
    },
    {
      "cell_type": "markdown",
      "metadata": {
        "id": "Po4tvE0zkiba"
      },
      "source": [
        "# Ensemble\n"
      ]
    },
    {
      "cell_type": "code",
      "metadata": {
        "id": "NIeWEOHviw1J"
      },
      "source": [
        "def makeData(ar, labels):\n",
        "  vals = numpy.unique(ar)\n",
        "  dic = {}\n",
        "  for i in range(len(ar)):\n",
        "    val = ar[i]\n",
        "    l = labels[i]\n",
        "    if val not in dic:\n",
        "      dic[val] = [0,0]\n",
        "    dic[val][l] += 1\n",
        "  for k in dic:\n",
        "    s = dic[k][0] + dic[k][1]\n",
        "    dic[k][0] /= s\n",
        "    dic[k][1] /= s \n",
        "  newAr = []\n",
        "  for i in ar:\n",
        "    newAr.append(dic[i][1])\n",
        "  return newAr"
      ],
      "execution_count": null,
      "outputs": []
    },
    {
      "cell_type": "code",
      "metadata": {
        "id": "0COhoxucktSV"
      },
      "source": [
        "d = pd.read_csv(\"IP Data Robot Actions - IP Data.csv\", header=None).to_numpy()\n",
        "data = []\n",
        "for i in range(1,len(d)):\n",
        "  data.append( [d[i][1], d[i][2], d[i][3], d[i-1][4]] )\n",
        "  if d[i][4]==\"NoAction\": \n",
        "    data[-1][-1] = 0\n",
        "  else:\n",
        "    data[-1][-1] = 1"
      ],
      "execution_count": null,
      "outputs": []
    },
    {
      "cell_type": "code",
      "metadata": {
        "id": "5UANQN2zktSh"
      },
      "source": [
        "Data = []\n",
        "for i in range(0,len(data),15):\n",
        "  l = False\n",
        "  for j in range(i,min(i+15,len(data))):\n",
        "    if data[j][-1] == 1:\n",
        "      l = True\n",
        "  d = []\n",
        "  if l:\n",
        "    for j in range(i,min(i+15,len(data))):\n",
        "      if data[j][-1] == 1:\n",
        "        d = data[j]\n",
        "        d[1] = data[i][1]\n",
        "  else:\n",
        "    d = data[i]\n",
        "  Data.append(d)"
      ],
      "execution_count": null,
      "outputs": []
    },
    {
      "cell_type": "code",
      "metadata": {
        "id": "ZqO-_AdOktSw"
      },
      "source": [
        "day = []\n",
        "time = []\n",
        "hour = []\n",
        "minute = []\n",
        "loct = []\n",
        "y = []\n",
        "for i in range(len(Data)):\n",
        "  day.append(Data[i][0])\n",
        "  time.append(Data[i][1])\n",
        "  colon = Data[i][1].find(':')\n",
        "  hour.append(int(Data[i][1][:colon]))\n",
        "  minute.append(int(Data[i][1][colon+1:]))\n",
        "  loct.append(Data[i][2])\n",
        "  y.append(Data[i][3])\n",
        "hour = numpy.array(hour)\n",
        "minute = numpy.array(minute)\n",
        "Y = numpy.array(y)"
      ],
      "execution_count": null,
      "outputs": []
    },
    {
      "cell_type": "code",
      "metadata": {
        "id": "Up-HwVEPi1tm"
      },
      "source": [
        "timeProb = numpy.array(makeData(time,Y))\n",
        "locProb = numpy.array(makeData(loct,Y))"
      ],
      "execution_count": null,
      "outputs": []
    },
    {
      "cell_type": "code",
      "metadata": {
        "id": "JABuhFw-i1tw"
      },
      "source": [
        "day, _ = to_one(day)\n",
        "loct, _ = to_one(loct)"
      ],
      "execution_count": null,
      "outputs": []
    },
    {
      "cell_type": "code",
      "metadata": {
        "id": "s7TBFha-i1t3"
      },
      "source": [
        "X = []\n",
        "window = 100\n",
        "for i in range(window,len(Y)):  \n",
        "  X.append(Y[i-window:i])\n",
        "X = numpy.array(X)\n",
        "X = X.reshape((X.shape[0],window,1))"
      ],
      "execution_count": null,
      "outputs": []
    },
    {
      "cell_type": "code",
      "metadata": {
        "id": "YY-q3toGi1t-",
        "colab": {
          "base_uri": "https://localhost:8080/",
          "height": 34
        },
        "outputId": "b1ee2369-be47-4ac3-a3bf-92fb02415da1"
      },
      "source": [
        "print(day.shape,loct.shape,hour.shape,minute.shape,timeProb.shape,locProb.shape,Y.shape,X.shape)"
      ],
      "execution_count": null,
      "outputs": [
        {
          "output_type": "stream",
          "text": [
            "(21120, 7) (21120, 11) (21120,) (21120,) (21120,) (21120,) (21120,) (21020, 100, 1)\n"
          ],
          "name": "stdout"
        }
      ]
    },
    {
      "cell_type": "code",
      "metadata": {
        "id": "gh-3zuSmi1uI"
      },
      "source": [
        "# trainX = [day[window:50000],loct[window:50000],hour[window:50000],minute[window:50000],timeProb[window:50000],locProb[window:50000],X[:50000-window]]\n",
        "# trainY = Y[window:50000]\n",
        "# valX = [day[50000:],loct[50000:],hour[50000:],minute[50000:],timeProb[50000:],locProb[50000:],X[50000-window:]]\n",
        "# valY = Y[50000:]\n",
        "# trainX = [day[window:25000],loct[window:25000],hour[window:25000],minute[window:25000],timeProb[window:25000],locProb[window:25000],X[:25000-window]]\n",
        "# trainY = Y[window:25000]\n",
        "# valX = [day[25000:],loct[25000:],hour[25000:],minute[25000:],timeProb[25000:],locProb[25000:],X[25000-window:]]\n",
        "# valY = Y[25000:]\n",
        "trainX = [day[window:16000],loct[window:16000],hour[window:16000],minute[window:16000],timeProb[window:16000],locProb[window:16000],X[:16000-window]]\n",
        "trainY = Y[window:16000]\n",
        "valX = [day[16000:],loct[16000:],hour[16000:],minute[16000:],timeProb[16000:],locProb[16000:],X[16000-window:]]\n",
        "valY = Y[16000:]"
      ],
      "execution_count": null,
      "outputs": []
    },
    {
      "cell_type": "code",
      "metadata": {
        "id": "dxuEiwOEi1uP"
      },
      "source": [
        "Days = Input(shape=(7,))\n",
        "Locts = Input(shape=(11,))\n",
        "Hours = Input(shape=(1,))\n",
        "Minutes = Input(shape=(1,))\n",
        "TProb = Input(shape=(1,))\n",
        "LProb = Input(shape=(1,))\n",
        "LSTMI = Input(shape=(window,1))\n",
        "\n",
        "Day = Dense(8, activation=\"relu\", input_shape=(7,))(Days)\n",
        "\n",
        "Loct = Dense(8, activation=\"relu\", input_shape=(11,))(Locts)\n",
        "\n",
        "Hour = Dense(8, activation=\"relu\", input_shape=(1,))(Hours)\n",
        "Minute = Dense(8, activation=\"relu\", input_shape=(1,))(Minutes)\n",
        "Time = concatenate([Hour, Minute])\n",
        "Time = Dense(8, activation=\"relu\")(Time)\n",
        "\n",
        "com = concatenate([Day, Loct, Time])\n",
        "yD = Dense(1, activation=\"relu\")(com)\n",
        "\n",
        "lstmy = LSTM(1)(LSTMI)\n",
        "lstmy = Dense(1,activation='relu')(lstmy)\n",
        "\n",
        "y = concatenate([yD,TProb,LProb,lstmy])\n",
        "y = Dense(1, activation=\"sigmoid\")(y)\n",
        "\n",
        "model = Model(inputs=[Days, Locts, Hours, Minutes, TProb, LProb, LSTMI], outputs=y)\n",
        "opt = Adam(lr=0.001)\n",
        "model.compile(loss=\"binary_crossentropy\", optimizer=opt, metrics=[\"accuracy\"])"
      ],
      "execution_count": null,
      "outputs": []
    },
    {
      "cell_type": "code",
      "metadata": {
        "id": "Z7ClEaYmi1uY"
      },
      "source": [
        "mc = ModelCheckpoint('Best_Model1.h5', monitor='val_loss', mode='min', verbose=1, save_best_only=True)\n",
        "history = model.fit(\n",
        "    trainX, trainY, validation_data=(valX, valY), batch_size=64,\n",
        "    epochs=40, callbacks=[mc], verbose=1, class_weight={0:1,1:3})"
      ],
      "execution_count": null,
      "outputs": []
    },
    {
      "cell_type": "code",
      "metadata": {
        "id": "2C4T9KZ7i1uf",
        "colab": {
          "base_uri": "https://localhost:8080/",
          "height": 168
        },
        "outputId": "88e7f3e4-879f-4fed-d855-fa582b137adf"
      },
      "source": [
        "model = load_model(\"Best_Model1.h5\")\n",
        "Ypred = model.predict(valX)\n",
        "print(classification_report(valY,Ypred.round()))"
      ],
      "execution_count": null,
      "outputs": [
        {
          "output_type": "stream",
          "text": [
            "              precision    recall  f1-score   support\n",
            "\n",
            "           0       0.91      0.66      0.76      3621\n",
            "           1       0.50      0.85      0.63      1499\n",
            "\n",
            "    accuracy                           0.71      5120\n",
            "   macro avg       0.71      0.75      0.70      5120\n",
            "weighted avg       0.79      0.71      0.72      5120\n",
            "\n"
          ],
          "name": "stdout"
        }
      ]
    },
    {
      "cell_type": "markdown",
      "metadata": {
        "id": "5GmsPldHk9P1"
      },
      "source": [
        "# LSTM\n"
      ]
    },
    {
      "cell_type": "code",
      "metadata": {
        "id": "R-xmfUUzlFnP"
      },
      "source": [
        "d = pd.read_csv(path, header=None).to_numpy()\n",
        "data = []\n",
        "for i in range(1,len(d)):\n",
        "  data.append( [d[i][1], d[i][2], d[i][3], d[i-1][4]] )\n",
        "  if d[i][4]==\"NoAction\": \n",
        "    data[-1][-1] = 0\n",
        "  else:\n",
        "    data[-1][-1] = 1"
      ],
      "execution_count": null,
      "outputs": []
    },
    {
      "cell_type": "code",
      "metadata": {
        "id": "ar9HlaxnlFnX"
      },
      "source": [
        "Data = []\n",
        "for i in range(0,len(data),5):\n",
        "  l = False\n",
        "  for j in range(i,min(i+5,len(data))):\n",
        "    if data[j][-1] == 1:\n",
        "      l = True\n",
        "  d = []\n",
        "  if l:\n",
        "    for j in range(i,min(i+5,len(data))):\n",
        "      if data[j][-1] == 1:\n",
        "        d = data[j]\n",
        "        d[1] = data[i][1]\n",
        "  else:\n",
        "    d = data[i]\n",
        "  Data.append(d)"
      ],
      "execution_count": null,
      "outputs": []
    },
    {
      "cell_type": "code",
      "metadata": {
        "id": "hQTllzuGlFoM"
      },
      "source": [
        "day = []\n",
        "time = []\n",
        "hour = []\n",
        "minute = []\n",
        "loct = []\n",
        "y = []\n",
        "for i in range(len(Data)):\n",
        "  day.append(Data[i][0])\n",
        "  time.append(Data[i][1])\n",
        "  colon = Data[i][1].find(':')\n",
        "  hour.append(int(Data[i][1][:colon]))\n",
        "  minute.append(int(Data[i][1][colon+1:]))\n",
        "  loct.append(Data[i][2])\n",
        "  y.append(Data[i][3])\n",
        "hour = numpy.array(hour)\n",
        "minute = numpy.array(minute)\n",
        "Y = numpy.array(y)"
      ],
      "execution_count": null,
      "outputs": []
    },
    {
      "cell_type": "code",
      "metadata": {
        "id": "ZYxNwfVVlFoY"
      },
      "source": [
        "X = []\n",
        "window = 100\n",
        "for i in range(window,len(Y)):  \n",
        "  X.append(Y[i-window:i])\n",
        "X = numpy.array(X)\n",
        "X = X.reshape((X.shape[0],window,1))"
      ],
      "execution_count": null,
      "outputs": []
    },
    {
      "cell_type": "code",
      "metadata": {
        "id": "mrfEoGRTlFoc",
        "colab": {
          "base_uri": "https://localhost:8080/",
          "height": 34
        },
        "outputId": "1e58d5cd-6a8d-4f95-afdc-d2bcb19c2b0e"
      },
      "source": [
        "print(Y.shape,X.shape)"
      ],
      "execution_count": null,
      "outputs": [
        {
          "output_type": "stream",
          "text": [
            "(63360,) (63260, 100, 1)\n"
          ],
          "name": "stdout"
        }
      ]
    },
    {
      "cell_type": "code",
      "metadata": {
        "id": "HsHGZgiAlFoh"
      },
      "source": [
        "trainX = X[:50000]\n",
        "trainY = Y[window:50000+window]\n",
        "valX = X[50000:]\n",
        "valY = Y[50000+window:]"
      ],
      "execution_count": null,
      "outputs": []
    },
    {
      "cell_type": "code",
      "metadata": {
        "id": "S0UMopHolaJ7",
        "colab": {
          "base_uri": "https://localhost:8080/",
          "height": 34
        },
        "outputId": "8cda430c-9dd8-405b-eada-a314298288f5"
      },
      "source": [
        "print(trainX.shape,valX.shape,trainY.shape,valY.shape)"
      ],
      "execution_count": null,
      "outputs": [
        {
          "output_type": "stream",
          "text": [
            "(50000, 100, 1) (13260, 100, 1) (50000,) (13260,)\n"
          ],
          "name": "stdout"
        }
      ]
    },
    {
      "cell_type": "code",
      "metadata": {
        "id": "nd81rTvylFol"
      },
      "source": [
        "LSTMI = Input(shape=(window,1))\n",
        "lstmy = LSTM(1)(LSTMI)\n",
        "y = Dense(1,activation='sigmoid')(lstmy)\n",
        "\n",
        "model = Model(inputs=LSTMI, outputs=y)\n",
        "opt = Adam(lr=0.001)\n",
        "model.compile(loss=\"binary_crossentropy\", optimizer=opt, metrics=[\"accuracy\"])"
      ],
      "execution_count": null,
      "outputs": []
    },
    {
      "cell_type": "code",
      "metadata": {
        "id": "lZ2PEy6LlFop"
      },
      "source": [
        "mc = ModelCheckpoint('Best_Model_lstm.h5', monitor='val_loss', mode='min', verbose=1, save_best_only=True)\n",
        "history = model.fit(\n",
        "    trainX, trainY, validation_data=(valX, valY), batch_size=32,\n",
        "    epochs=40, callbacks=[mc], verbose=1, class_weight={0:1,1:7})"
      ],
      "execution_count": null,
      "outputs": []
    },
    {
      "cell_type": "code",
      "metadata": {
        "id": "ppWnqFEilFot",
        "colab": {
          "base_uri": "https://localhost:8080/",
          "height": 168
        },
        "outputId": "8d96eae3-e02d-4a90-8a77-b47f00f7678c"
      },
      "source": [
        "model = load_model(\"Best_Model_lstm.h5\")\n",
        "Ypred = model.predict(valX)\n",
        "print(classification_report(valY,Ypred.round()))"
      ],
      "execution_count": null,
      "outputs": [
        {
          "output_type": "stream",
          "text": [
            "              precision    recall  f1-score   support\n",
            "\n",
            "           0       0.94      0.62      0.75     11443\n",
            "           1       0.24      0.74      0.36      1817\n",
            "\n",
            "    accuracy                           0.64     13260\n",
            "   macro avg       0.59      0.68      0.55     13260\n",
            "weighted avg       0.84      0.64      0.69     13260\n",
            "\n"
          ],
          "name": "stdout"
        }
      ]
    },
    {
      "cell_type": "markdown",
      "metadata": {
        "id": "NwdtXGICbYrE"
      },
      "source": [
        "# Pattern Testing\n"
      ]
    },
    {
      "cell_type": "code",
      "metadata": {
        "id": "mv-kIS0Km0XV"
      },
      "source": [
        "d = pd.read_csv(\"IP Data Robot Actions - IP Data.csv\", header=None).to_numpy()\n",
        "data = []\n",
        "for i in range(1,len(d)):\n",
        "  data.append( [d[i][1], d[i][2], d[i][3], d[i-1][4]] )\n",
        "  if d[i][4]==\"NoAction\": \n",
        "    data[-1][-1] = 0\n",
        "  else:\n",
        "    data[-1][-1] = 1"
      ],
      "execution_count": null,
      "outputs": []
    },
    {
      "cell_type": "code",
      "metadata": {
        "id": "rCYUdqTpm0Xm"
      },
      "source": [
        "Data = []\n",
        "for i in range(0,len(data),5):\n",
        "  l = False\n",
        "  for j in range(i,min(i+5,len(data))):\n",
        "    if data[j][-1] == 1:\n",
        "      l = True\n",
        "  d = []\n",
        "  if l:\n",
        "    for j in range(i,min(i+5,len(data))):\n",
        "      if data[j][-1] == 1:\n",
        "        d = data[j]\n",
        "        d[1] = data[i][1]\n",
        "  else:\n",
        "    d = data[i]\n",
        "  Data.append(d)"
      ],
      "execution_count": null,
      "outputs": []
    },
    {
      "cell_type": "code",
      "metadata": {
        "id": "xjaDTHP4m0Xs"
      },
      "source": [
        "day = []\n",
        "time = []\n",
        "hour = []\n",
        "minute = []\n",
        "loct = []\n",
        "y = []\n",
        "for i in range(len(Data)):\n",
        "  day.append(Data[i][0])\n",
        "  time.append(Data[i][1])\n",
        "  colon = Data[i][1].find(':')\n",
        "  hour.append(int(Data[i][1][:colon]))\n",
        "  minute.append(int(Data[i][1][colon+1:]))\n",
        "  loct.append(Data[i][2])\n",
        "  y.append(Data[i][3])\n",
        "hour = numpy.array(hour)\n",
        "minute = numpy.array(minute)\n",
        "Y = numpy.array(y)"
      ],
      "execution_count": null,
      "outputs": []
    },
    {
      "cell_type": "code",
      "metadata": {
        "id": "vnW-PJG4bjHe"
      },
      "source": [
        "timeVals = []\n",
        "for i in time:\n",
        "  if i not in timeVals:\n",
        "    timeVals.append(i)\n",
        "d = {}\n",
        "for i in timeVals:\n",
        "  d[i] = [0,0]\n",
        "for i in range(50000):\n",
        "  t = time[i]\n",
        "  if Y[i]==0:\n",
        "    d[t][0] += 1\n",
        "  else:\n",
        "    d[t][1] += 1"
      ],
      "execution_count": null,
      "outputs": []
    },
    {
      "cell_type": "code",
      "metadata": {
        "id": "etRNfKrCbjHm"
      },
      "source": [
        "plots = []\n",
        "for i in timeVals:\n",
        "  plots.append(d[i])"
      ],
      "execution_count": null,
      "outputs": []
    },
    {
      "cell_type": "code",
      "metadata": {
        "id": "nnnCCJ0DbjHu",
        "colab": {
          "base_uri": "https://localhost:8080/"
        },
        "outputId": "8e8bfa13-d67e-470b-fa71-f271198e4efc"
      },
      "source": [
        "v = [va[1] for va in plots]\n",
        "v = [va for va in v]\n",
        "import matplotlib.pyplot as plt\n",
        "plt.figure(figsize=(10,5))\n",
        "plt.plot([i for i in range(len(v))],[va for va in v])\n",
        "plt.xlabel(\"Times\")\n",
        "plt.ylabel(\"Number of 'Action's\")\n",
        "plt.legend()\n",
        "plt.show()"
      ],
      "execution_count": null,
      "outputs": [
        {
          "output_type": "stream",
          "text": [
            "No handles with labels found to put in legend.\n"
          ],
          "name": "stderr"
        },
        {
          "output_type": "display_data",
          "data": {
            "image/png": "[encoded data removed]",
            "text/plain": [
              "<Figure size 720x360 with 1 Axes>"
            ]
          },
          "metadata": {
            "tags": [],
            "needs_background": "light"
          }
        }
      ]
    },
    {
      "cell_type": "markdown",
      "metadata": {
        "id": "ZCo6hqBw_cNP"
      },
      "source": [
        "# Binary Model"
      ]
    },
    {
      "cell_type": "code",
      "metadata": {
        "id": "r33L21Kb_gFG"
      },
      "source": [
        "def makeData(ar, labels):\n",
        "  vals = numpy.unique(ar)\n",
        "  dic = {}\n",
        "  for i in range(len(ar)):\n",
        "    val = ar[i]\n",
        "    l = labels[i]\n",
        "    if val not in dic:\n",
        "      dic[val] = [0,0]\n",
        "    dic[val][l] += 1\n",
        "  for k in dic:\n",
        "    s = dic[k][0] + dic[k][1]\n",
        "    dic[k][0] /= s\n",
        "    dic[k][1] /= s \n",
        "  newAr = []\n",
        "  for i in ar:\n",
        "    newAr.append(dic[i][1])\n",
        "  return newAr"
      ],
      "execution_count": null,
      "outputs": []
    },
    {
      "cell_type": "code",
      "metadata": {
        "id": "J3xYOPMt_gFS"
      },
      "source": [
        "d = pd.read_csv(\"IP Data Robot Actions - IP Data.csv\", header=None).to_numpy()\n",
        "data = []\n",
        "YAct = []\n",
        "for i in range(1,len(d)):\n",
        "  data.append( [d[i][1], d[i][2], d[i][3], d[i][4]] )\n",
        "  YAct.append(d[i][4])\n",
        "  if d[i][4]==\"NoAction\": \n",
        "    data[-1][-1] = 0\n",
        "  else:\n",
        "    data[-1][-1] = 1"
      ],
      "execution_count": null,
      "outputs": []
    },
    {
      "cell_type": "code",
      "metadata": {
        "id": "fWt6IhYbW7xU"
      },
      "source": [
        "YSet = []\n",
        "Yprev = []\n",
        "for i in range(0,len(YAct),15):\n",
        "  temp = []\n",
        "  tempAct = YAct[i]\n",
        "  for j in range(i,min(i+15,len(YAct))):\n",
        "    if YAct[j] not in temp:\n",
        "      temp.append(YAct[j])\n",
        "    if YAct[j] != \"NoAction\":\n",
        "      tempAct = YAct[j]\n",
        "  Yprev.append(tempAct)\n",
        "  YSet.append(temp)\n",
        "Yprev = [\"NoAction\"] + Yprev[:-1]"
      ],
      "execution_count": null,
      "outputs": []
    },
    {
      "cell_type": "code",
      "metadata": {
        "id": "JDJihLePfg8J"
      },
      "source": [
        "prev = \"Bring a glass of water\"\n",
        "for i in range(len(Yprev)):\n",
        "  if Yprev[i] == \"NoAction\":\n",
        "    Yprev[i] = prev\n",
        "  else:\n",
        "    prev = Yprev[i]"
      ],
      "execution_count": null,
      "outputs": []
    },
    {
      "cell_type": "code",
      "metadata": {
        "id": "0qDao2XGFaaS"
      },
      "source": [
        "vals =['Switch on the geyser', 'Get the necessary ingredients', 'Lay the dishes on the table', 'Bring the laptop and books', 'Provide the broom and mop', 'Bring a glass of water', 'Keep the broom and mop back', 'Put dishes in the dishwasher', 'Switch off the geyser', 'Put used dishes in the sink', 'Bring a cold beverage', 'Bring the wallet and mobile', 'Keep laptops and books away', 'Put the dishes back in the shelves', 'Switch off the TV ']"
      ],
      "execution_count": null,
      "outputs": []
    },
    {
      "cell_type": "code",
      "metadata": {
        "id": "CKioOdIIc3TR"
      },
      "source": [
        "YP = []\n",
        "for i in Yprev:\n",
        "  temp = [0]*len(vals)\n",
        "  if i in vals:\n",
        "    temp[vals.index(i)] = 1\n",
        "  YP.append(temp)\n",
        "YP = numpy.array(YP)"
      ],
      "execution_count": null,
      "outputs": []
    },
    {
      "cell_type": "code",
      "metadata": {
        "id": "T286bw7O_gFX"
      },
      "source": [
        "Data = []\n",
        "for i in range(0,len(data),15):\n",
        "  l = False\n",
        "  for j in range(i,min(i+15,len(data))):\n",
        "    if data[j][-1] == 1:\n",
        "      l = True\n",
        "  d = []\n",
        "  if l:\n",
        "    for j in range(i,min(i+15,len(data))):\n",
        "      if data[j][-1] == 1:\n",
        "        d = data[j]\n",
        "        d[1] = data[i][1]\n",
        "  else:\n",
        "    d = data[i]\n",
        "  Data.append(d)"
      ],
      "execution_count": null,
      "outputs": []
    },
    {
      "cell_type": "code",
      "metadata": {
        "id": "NYZmZJLk_gFb"
      },
      "source": [
        "day = []\n",
        "time = []\n",
        "hour = []\n",
        "minute = []\n",
        "loct = []\n",
        "y = []\n",
        "for i in range(len(Data)):\n",
        "  day.append(Data[i][0])\n",
        "  time.append(Data[i][1])\n",
        "  colon = Data[i][1].find(':')\n",
        "  hour.append(int(Data[i][1][:colon]))\n",
        "  minute.append(int(Data[i][1][colon+1:]))\n",
        "  loct.append(Data[i][2])\n",
        "  y.append(Data[i][3])\n",
        "hour = numpy.array(hour)\n",
        "minute = numpy.array(minute)\n",
        "Y = numpy.array(y)"
      ],
      "execution_count": null,
      "outputs": []
    },
    {
      "cell_type": "code",
      "metadata": {
        "id": "sodkHShq_gFg"
      },
      "source": [
        "timeProb = numpy.array(makeData(time,Y))\n",
        "locProb = numpy.array(makeData(loct,Y))"
      ],
      "execution_count": null,
      "outputs": []
    },
    {
      "cell_type": "code",
      "metadata": {
        "id": "vn7w-DI0_gFl"
      },
      "source": [
        "day, _ = to_one(day)\n",
        "loct, _ = to_one(loct)"
      ],
      "execution_count": null,
      "outputs": []
    },
    {
      "cell_type": "code",
      "metadata": {
        "id": "8coCTJS7_gFp"
      },
      "source": [
        "X = []\n",
        "window = 100\n",
        "for i in range(window,len(Y)):  \n",
        "  X.append(Y[i-window:i])\n",
        "X = numpy.array(X)\n",
        "X = X.reshape((X.shape[0],window,1))"
      ],
      "execution_count": null,
      "outputs": []
    },
    {
      "cell_type": "code",
      "metadata": {
        "id": "UGLR4GiX_gFu",
        "colab": {
          "base_uri": "https://localhost:8080/",
          "height": 34
        },
        "outputId": "25dcc471-d417-4e69-9715-e3cc66d91f21"
      },
      "source": [
        "print(day.shape,loct.shape,hour.shape,minute.shape,timeProb.shape,locProb.shape,Y.shape,X.shape,YP.shape)"
      ],
      "execution_count": null,
      "outputs": [
        {
          "output_type": "stream",
          "text": [
            "(21120, 7) (21120, 11) (21120,) (21120,) (21120,) (21120,) (21120,) (21020, 100, 1) (21120, 15)\n"
          ],
          "name": "stdout"
        }
      ]
    },
    {
      "cell_type": "code",
      "metadata": {
        "id": "Y_fkekm1_gF0"
      },
      "source": [
        "endT = 15000\n",
        "endV = 18000\n",
        "endTe = -1\n",
        "trainX = [day[window:endT],loct[window:endT],hour[window:endT],minute[window:endT],timeProb[window:endT],locProb[window:endT],X[:endT-window]]\n",
        "trainY = Y[window:endT]\n",
        "valX = [day[endT:endV],loct[endT:endV],hour[endT:endV],minute[endT:endV],timeProb[endT:endV],locProb[endT:endV],X[endT-window:endV-window]]\n",
        "valY = Y[endT:endV]\n",
        "testX = [day[endV:endTe],loct[endV:endTe],hour[endV:endTe],minute[endV:endTe],timeProb[endV:endTe],locProb[endV:endTe],X[endV-window:endTe]]\n",
        "testY = Y[endV:endTe]\n",
        "\n",
        "testXA = [day[endV:endTe],loct[endV:endTe],hour[endV:endTe],minute[endV:endTe],YP[endV:endTe]]\n",
        "YS = YSet[endV:endTe]"
      ],
      "execution_count": null,
      "outputs": []
    },
    {
      "cell_type": "code",
      "metadata": {
        "id": "GJIKMZcHDdLP",
        "colab": {
          "base_uri": "https://localhost:8080/",
          "height": 101
        },
        "outputId": "b65db7f2-8a85-4d41-8610-5bfb9d12439a"
      },
      "source": [
        "print(trainX[0].shape,trainX[1].shape,trainX[2].shape,trainX[3].shape,trainX[4].shape,trainX[5].shape,trainX[6].shape)\n",
        "print(valX[0].shape,valX[1].shape,valX[2].shape,valX[3].shape,valX[4].shape,valX[5].shape,valX[6].shape)\n",
        "print(testX[0].shape,testX[1].shape,testX[2].shape,testX[3].shape,testX[4].shape,testX[5].shape,testX[6].shape)\n",
        "print(testXA[0].shape,testXA[1].shape,testXA[2].shape,testXA[3].shape,testXA[4].shape)\n",
        "print(trainY.shape,valY.shape,testY.shape)"
      ],
      "execution_count": null,
      "outputs": [
        {
          "output_type": "stream",
          "text": [
            "(14900, 7) (14900, 11) (14900,) (14900,) (14900,) (14900,) (14900, 100, 1)\n",
            "(3000, 7) (3000, 11) (3000,) (3000,) (3000,) (3000,) (3000, 100, 1)\n",
            "(3119, 7) (3119, 11) (3119,) (3119,) (3119,) (3119,) (3119, 100, 1)\n",
            "(3119, 7) (3119, 11) (3119,) (3119,) (3119, 15)\n",
            "(14900,) (3000,) (3119,)\n"
          ],
          "name": "stdout"
        }
      ]
    },
    {
      "cell_type": "code",
      "metadata": {
        "id": "GRZ6W1RN_gF4"
      },
      "source": [
        "Days = Input(shape=(7,))\n",
        "Locts = Input(shape=(11,))\n",
        "Hours = Input(shape=(1,))\n",
        "Minutes = Input(shape=(1,))\n",
        "TProb = Input(shape=(1,))\n",
        "LProb = Input(shape=(1,))\n",
        "LSTMI = Input(shape=(window,1))\n",
        "\n",
        "Day = Dense(8, activation=\"relu\", input_shape=(7,))(Days)\n",
        "\n",
        "Loct = Dense(8, activation=\"relu\", input_shape=(11,))(Locts)\n",
        "\n",
        "Hour = Dense(8, activation=\"relu\", input_shape=(1,))(Hours)\n",
        "Minute = Dense(8, activation=\"relu\", input_shape=(1,))(Minutes)\n",
        "Time = concatenate([Hour, Minute])\n",
        "Time = Dense(8, activation=\"relu\")(Time)\n",
        "\n",
        "com = concatenate([Day, Loct, Time])\n",
        "yD = Dense(1, activation=\"relu\")(com)\n",
        "\n",
        "lstmy = LSTM(1)(LSTMI)\n",
        "lstmy = Dense(1,activation='relu')(lstmy)\n",
        "\n",
        "y = concatenate([yD,TProb,LProb,lstmy])\n",
        "y = Dense(1, activation=\"sigmoid\")(y)\n",
        "\n",
        "model = Model(inputs=[Days, Locts, Hours, Minutes, TProb, LProb, LSTMI], outputs=y)\n",
        "opt = Adam(lr=0.0005)\n",
        "model.compile(loss=\"binary_crossentropy\", optimizer=opt, metrics=[\"accuracy\"])"
      ],
      "execution_count": null,
      "outputs": []
    },
    {
      "cell_type": "code",
      "metadata": {
        "id": "v3dZfNrAkDNw"
      },
      "source": [
        "weight = numpy.count_nonzero(trainY==0)/numpy.count_nonzero(trainY==1)"
      ],
      "execution_count": null,
      "outputs": []
    },
    {
      "cell_type": "code",
      "metadata": {
        "id": "PC-HOtLx_gF8"
      },
      "source": [
        "mc = ModelCheckpoint('Best_Model1.h5', monitor='val_loss', mode='min', verbose=0, save_best_only=True)\n",
        "history = model.fit(\n",
        "    trainX, trainY, validation_data=(valX, valY), batch_size=64,\n",
        "    epochs=40, callbacks=[mc], verbose=0, class_weight={0:1,1:weight})"
      ],
      "execution_count": null,
      "outputs": []
    },
    {
      "cell_type": "code",
      "metadata": {
        "id": "dxYcjZJL_gGD",
        "colab": {
          "base_uri": "https://localhost:8080/",
          "height": 168
        },
        "outputId": "f14a1499-1f4c-46bc-e5fd-8ccd81d79636"
      },
      "source": [
        "model = load_model(\"Best_Model1.h5\")\n",
        "Ypred = model.predict(testX)\n",
        "print(classification_report(testY,Ypred.round()))"
      ],
      "execution_count": null,
      "outputs": [
        {
          "output_type": "stream",
          "text": [
            "              precision    recall  f1-score   support\n",
            "\n",
            "           0       0.89      0.66      0.76      2193\n",
            "           1       0.51      0.81      0.62       926\n",
            "\n",
            "    accuracy                           0.71      3119\n",
            "   macro avg       0.70      0.74      0.69      3119\n",
            "weighted avg       0.78      0.71      0.72      3119\n",
            "\n"
          ],
          "name": "stdout"
        }
      ]
    },
    {
      "cell_type": "markdown",
      "metadata": {
        "id": "1AF2BY5tcinc"
      },
      "source": [
        "# Action Model"
      ]
    },
    {
      "cell_type": "code",
      "metadata": {
        "id": "WHjYau2zzALR"
      },
      "source": [
        "d = pd.read_csv(\"IP Data Robot Actions - IP Data.csv\", header=None).to_numpy()\n",
        "data = []\n",
        "day = []\n",
        "time = []\n",
        "hour = []\n",
        "minute = []\n",
        "loct = []\n",
        "prevAct = []\n",
        "y = []\n",
        "for i in range(1,len(d)):\n",
        "  if d[i][4] != \"NoAction\":\n",
        "    data.append( [d[i][1], d[i][2], d[i][3], d[i-1][4]] )\n",
        "    day.append(d[i][1])\n",
        "    time.append(d[i][2])\n",
        "    colon = d[i][2].find(':')\n",
        "    hour.append(int(d[i][2][:colon]))\n",
        "    minute.append(int(d[i][2][colon+1:]))\n",
        "    loct.append(d[i][3])\n",
        "    if len(y)==0:\n",
        "      prevAct.append(\"Switch off the TV \")\n",
        "    else:\n",
        "      prevAct.append(y[-1])\n",
        "    y.append(d[i][4])\n",
        "hour = numpy.array(hour)\n",
        "minute = numpy.array(minute)"
      ],
      "execution_count": null,
      "outputs": []
    },
    {
      "cell_type": "code",
      "metadata": {
        "id": "5eMQWqCmzALd"
      },
      "source": [
        "day, _ = to_one(day)\n",
        "loct, _ = to_one(loct)\n",
        "prevAct, vals = to_one(prevAct)\n",
        "Y = []\n",
        "for i in range(len(y)):\n",
        "  Y.append(vals.index(y[i]))\n",
        "Y = to_categorical(Y)"
      ],
      "execution_count": null,
      "outputs": []
    },
    {
      "cell_type": "code",
      "metadata": {
        "id": "Vb9PGGkOzALk"
      },
      "source": [
        "trainX = [day[:8500],loct[:8500],hour[:8500],minute[:8500],prevAct[:8500]]\n",
        "trainY = Y[:8500]\n",
        "valX = [day[8500:],loct[8500:],hour[8500:],minute[8500:],prevAct[8500:]]\n",
        "valY = Y[8500:]"
      ],
      "execution_count": null,
      "outputs": []
    },
    {
      "cell_type": "code",
      "metadata": {
        "id": "15drM60VzALv"
      },
      "source": [
        "Days = Input(shape=(7,))\n",
        "Locts = Input(shape=(11,))\n",
        "PrevActs = Input(shape=(15,))\n",
        "Hours = Input(shape=(1,))\n",
        "Minutes = Input(shape=(1,))\n",
        "\n",
        "Day = Dense(8, activation=\"relu\", input_shape=(7,))(Days)\n",
        "\n",
        "Loct = Dense(8, activation=\"relu\", input_shape=(11,))(Locts)\n",
        "\n",
        "PrevAct = Dense(8, activation=\"relu\")(PrevActs)\n",
        "\n",
        "Hour = Dense(16, activation=\"relu\", input_shape=(1,))(Hours)\n",
        "Minute = Dense(16, activation=\"relu\", input_shape=(1,))(Minutes)\n",
        "Time = concatenate([Hour, Minute])\n",
        "Time = Dense(8, activation=\"relu\")(Time)\n",
        "\n",
        "X = concatenate([Day, Loct, Time, PrevAct])\n",
        "\n",
        "X = Dense(64, activation=\"relu\")(X)\n",
        "y = Dense(15, activation=\"softmax\")(X)\n",
        "\n",
        "model = Model(inputs=[Days, Locts, Hours, Minutes, PrevActs], outputs=y)\n",
        "opt = Adam(lr=0.001)\n",
        "model.compile(loss=\"categorical_crossentropy\", optimizer=opt, metrics=[\"accuracy\"])"
      ],
      "execution_count": null,
      "outputs": []
    },
    {
      "cell_type": "code",
      "metadata": {
        "id": "t23ihiQozAL2"
      },
      "source": [
        "mc = ModelCheckpoint('Best_Model.h5', monitor='val_loss', mode='min', verbose=0, save_best_only=True)\n",
        "history = model.fit(\n",
        "    trainX, trainY, validation_data=(valX, valY), batch_size=64,\n",
        "    epochs=100, callbacks=[mc], verbose=0)"
      ],
      "execution_count": null,
      "outputs": []
    },
    {
      "cell_type": "code",
      "metadata": {
        "id": "g-G4kjDAzAL_",
        "colab": {
          "base_uri": "https://localhost:8080/",
          "height": 457
        },
        "outputId": "a53c8861-a319-4b74-b3a7-571dff11fabc"
      },
      "source": [
        "model = load_model(\"Best_Model.h5\")\n",
        "Ypred1 = model.predict(valX)\n",
        "Yp = numpy.argmax(Ypred1,axis=1)\n",
        "Ya = numpy.argmax(valY,axis=1)\n",
        "YP = []\n",
        "YA = []\n",
        "for i in range(len(Yp)):\n",
        "  YP.append(vals[Yp[i]])\n",
        "  YA.append(vals[Ya[i]])\n",
        "print(classification_report(YA,YP))\n",
        "print(\"Micro F1-Score:\",f1_score(YA,YP,average='micro'))\n",
        "print(\"Macro F1-Score:\",f1_score(YA,YP,average='macro'))\n",
        "print(\"Weighted F1-Score:\",f1_score(YA,YP,average='weighted'))"
      ],
      "execution_count": null,
      "outputs": [
        {
          "output_type": "stream",
          "text": [
            "                                    precision    recall  f1-score   support\n",
            "\n",
            "             Bring a cold beverage       0.92      0.91      0.91       614\n",
            "            Bring a glass of water       0.96      0.99      0.97       240\n",
            "        Bring the laptop and books       0.93      0.93      0.93        40\n",
            "       Bring the wallet and mobile       1.00      0.96      0.98       111\n",
            "     Get the necessary ingredients       0.97      0.96      0.97       353\n",
            "       Keep laptops and books away       1.00      1.00      1.00        38\n",
            "       Lay the dishes on the table       0.90      0.58      0.70        33\n",
            "      Put dishes in the dishwasher       0.00      0.00      0.00         3\n",
            "Put the dishes back in the shelves       1.00      0.75      0.86         4\n",
            "       Put used dishes in the sink       0.81      0.82      0.81       296\n",
            "                Switch off the TV        0.95      0.99      0.97       548\n",
            "             Switch off the geyser       0.00      0.00      0.00         7\n",
            "              Switch on the geyser       0.96      1.00      0.98        24\n",
            "\n",
            "                          accuracy                           0.93      2311\n",
            "                         macro avg       0.80      0.76      0.78      2311\n",
            "                      weighted avg       0.93      0.93      0.93      2311\n",
            "\n",
            "Micro F1-Score: 0.9299004759844224\n",
            "Macro F1-Score: 0.775767448315688\n",
            "Weighted F1-Score: 0.9270736430453476\n"
          ],
          "name": "stdout"
        },
        {
          "output_type": "stream",
          "text": [
            "/usr/local/lib/python3.6/dist-packages/sklearn/metrics/_classification.py:1272: UndefinedMetricWarning: Precision and F-score are ill-defined and being set to 0.0 in labels with no predicted samples. Use `zero_division` parameter to control this behavior.\n",
            "  _warn_prf(average, modifier, msg_start, len(result))\n"
          ],
          "name": "stderr"
        }
      ]
    },
    {
      "cell_type": "code",
      "metadata": {
        "id": "DWyPme1jf-hn",
        "colab": {
          "base_uri": "https://localhost:8080/",
          "height": 54
        },
        "outputId": "a13b8a40-7b26-4ec2-df0a-bce272ce7aa9"
      },
      "source": [
        "print(vals)"
      ],
      "execution_count": null,
      "outputs": [
        {
          "output_type": "stream",
          "text": [
            "['Switch on the geyser', 'Get the necessary ingredients', 'Lay the dishes on the table', 'Bring the laptop and books', 'Provide the broom and mop', 'Bring a glass of water', 'Keep the broom and mop back', 'Put dishes in the dishwasher', 'Switch off the geyser', 'Put used dishes in the sink', 'Bring a cold beverage', 'Bring the wallet and mobile', 'Keep laptops and books away', 'Put the dishes back in the shelves', 'Switch off the TV ']\n"
          ],
          "name": "stdout"
        }
      ]
    },
    {
      "cell_type": "markdown",
      "metadata": {
        "id": "17QdzUCndlKN"
      },
      "source": [
        "# Combine Models"
      ]
    },
    {
      "cell_type": "code",
      "metadata": {
        "id": "e1dDPaQmcfxB"
      },
      "source": [
        "model = load_model(\"Best_Model.h5\")\n",
        "YpredA = model.predict(testXA)\n",
        "YpredA = numpy.argmax(YpredA,axis=1)"
      ],
      "execution_count": null,
      "outputs": []
    },
    {
      "cell_type": "code",
      "metadata": {
        "id": "3wbIdnKTeZeS"
      },
      "source": [
        "Actions = []\n",
        "for i in YpredA:\n",
        "  Actions.append(vals[i])"
      ],
      "execution_count": null,
      "outputs": []
    },
    {
      "cell_type": "code",
      "metadata": {
        "id": "GdNP6S-xdrCy",
        "colab": {
          "base_uri": "https://localhost:8080/",
          "height": 84
        },
        "outputId": "0581c6d2-6aa4-47ac-bef4-9e3bbce206c3"
      },
      "source": [
        "c = 0\n",
        "d = 0\n",
        "e = 0\n",
        "f = 0\n",
        "Ypred = Ypred.round()\n",
        "for i in range(len(YpredA)):\n",
        "  p = Ypred[i]\n",
        "  t = testY[i]\n",
        "  if p==t and p==0:\n",
        "    c += 1\n",
        "    e += 1\n",
        "  elif p==t and p==1:\n",
        "    f += 1\n",
        "    if Actions[i] in YS[i]:\n",
        "      c += 1\n",
        "      d += 1\n",
        "print(\"Total Accuracy:\",c/len(YpredA))\n",
        "print(d/len(YpredA))\n",
        "print(e/len(YpredA))\n",
        "print(f/len(YpredA))"
      ],
      "execution_count": null,
      "outputs": [
        {
          "output_type": "stream",
          "text": [
            "Total Accuracy: 0.6851554985572299\n",
            "0.21769798012183392\n",
            "0.46745751843539596\n",
            "0.24078230201987816\n"
          ],
          "name": "stdout"
        }
      ]
    },
    {
      "cell_type": "markdown",
      "metadata": {
        "id": "codEiICX6Kqc"
      },
      "source": [
        "# Occam's Razor"
      ]
    },
    {
      "cell_type": "code",
      "metadata": {
        "id": "lPAqFQ7hm3G3"
      },
      "source": [
        "def makeData(ar, labels):\n",
        "  vals = numpy.unique(ar)\n",
        "  dic = {}\n",
        "  for i in range(len(ar)):\n",
        "    val = ar[i]\n",
        "    l = labels[i]\n",
        "    if val not in dic:\n",
        "      dic[val] = [0,0]\n",
        "    dic[val][l] += 1\n",
        "  for k in dic:\n",
        "    s = dic[k][0] + dic[k][1]\n",
        "    dic[k][0] /= s\n",
        "    dic[k][1] /= s \n",
        "  newAr = []\n",
        "  for i in ar:\n",
        "    newAr.append(dic[i][1])\n",
        "  return newAr"
      ],
      "execution_count": null,
      "outputs": []
    },
    {
      "cell_type": "code",
      "metadata": {
        "id": "fcEnJCWlm3HC"
      },
      "source": [
        "d = pd.read_csv(\"IP Data Robot Actions - IP Data.csv\", header=None).to_numpy()\n",
        "data = []\n",
        "YAct = []\n",
        "for i in range(1,len(d)):\n",
        "  data.append( [d[i][1], d[i][2], d[i][3], d[i][4]] )\n",
        "  YAct.append(d[i][4])\n",
        "  if d[i][4]==\"NoAction\": \n",
        "    data[-1][-1] = 0\n",
        "  else:\n",
        "    data[-1][-1] = 1"
      ],
      "execution_count": null,
      "outputs": []
    },
    {
      "cell_type": "code",
      "metadata": {
        "id": "gophQ1e7m3HK"
      },
      "source": [
        "YSet = []\n",
        "Yprev = []\n",
        "for i in range(0,len(YAct),15):\n",
        "  temp = []\n",
        "  tempAct = YAct[i]\n",
        "  for j in range(i,min(i+15,len(YAct))):\n",
        "    if YAct[j] not in temp:\n",
        "      temp.append(YAct[j])\n",
        "    if YAct[j] != \"NoAction\":\n",
        "      tempAct = YAct[j]\n",
        "  Yprev.append(tempAct)\n",
        "  YSet.append(temp)\n",
        "Yprev = [\"NoAction\"] + Yprev[:-1]"
      ],
      "execution_count": null,
      "outputs": []
    },
    {
      "cell_type": "code",
      "metadata": {
        "id": "FdQAPiphm3HR"
      },
      "source": [
        "prev = \"Bring a glass of water\"\n",
        "for i in range(len(Yprev)):\n",
        "  if Yprev[i] == \"NoAction\":\n",
        "    Yprev[i] = prev\n",
        "  else:\n",
        "    prev = Yprev[i]"
      ],
      "execution_count": null,
      "outputs": []
    },
    {
      "cell_type": "code",
      "metadata": {
        "id": "L0ENzXMXm3HY"
      },
      "source": [
        "vals = ['Keep the broom and mop back', 'Put used dishes in the sink', 'Switch off the TV ', 'Get the necessary ingredients', 'Switch off the geyser', 'Bring the laptop and books', 'Switch on the geyser', 'Bring a glass of water', 'Bring the wallet and mobile', 'Bring a cold beverage', 'Lay the dishes on the table', 'Provide the broom and mop', 'Put dishes in the dishwasher', 'Put the dishes back in the shelves', 'Keep laptops and books away']"
      ],
      "execution_count": null,
      "outputs": []
    },
    {
      "cell_type": "code",
      "metadata": {
        "id": "XejDDaDWm3Hf"
      },
      "source": [
        "YP = []\n",
        "for i in Yprev:\n",
        "  temp = [0]*len(vals)\n",
        "  if i in vals:\n",
        "    temp[vals.index(i)] = 1\n",
        "  YP.append(temp)\n",
        "YP = numpy.array(YP)"
      ],
      "execution_count": null,
      "outputs": []
    },
    {
      "cell_type": "code",
      "metadata": {
        "id": "9M8-P8Snm3Hn"
      },
      "source": [
        "Data = []\n",
        "for i in range(0,len(data),15):\n",
        "  l = False\n",
        "  for j in range(i,min(i+15,len(data))):\n",
        "    if data[j][-1] == 1:\n",
        "      l = True\n",
        "  d = []\n",
        "  if l:\n",
        "    for j in range(i,min(i+15,len(data))):\n",
        "      if data[j][-1] == 1:\n",
        "        d = data[j]\n",
        "        d[1] = data[i][1]\n",
        "  else:\n",
        "    d = data[i]\n",
        "  Data.append(d)"
      ],
      "execution_count": null,
      "outputs": []
    },
    {
      "cell_type": "code",
      "metadata": {
        "id": "ufr0oUPsm3Hx"
      },
      "source": [
        "day = []\n",
        "time = []\n",
        "hour = []\n",
        "minute = []\n",
        "loct = []\n",
        "y = []\n",
        "for i in range(len(Data)):\n",
        "  day.append(Data[i][0])\n",
        "  time.append(Data[i][1])\n",
        "  colon = Data[i][1].find(':')\n",
        "  hour.append(int(Data[i][1][:colon]))\n",
        "  minute.append(int(Data[i][1][colon+1:]))\n",
        "  loct.append(Data[i][2])\n",
        "  y.append(Data[i][3])\n",
        "hour = numpy.array(hour)\n",
        "minute = numpy.array(minute)\n",
        "Y = numpy.array(y)"
      ],
      "execution_count": null,
      "outputs": []
    },
    {
      "cell_type": "code",
      "metadata": {
        "id": "ZmkSt9Rom3H4"
      },
      "source": [
        "timeProb = numpy.array(makeData(time,Y))\n",
        "locProb = numpy.array(makeData(loct,Y))"
      ],
      "execution_count": null,
      "outputs": []
    },
    {
      "cell_type": "code",
      "metadata": {
        "id": "kFcP0k80m3H-"
      },
      "source": [
        "day, _ = to_one(day)\n",
        "loct, _ = to_one(loct)"
      ],
      "execution_count": null,
      "outputs": []
    },
    {
      "cell_type": "code",
      "metadata": {
        "id": "3r2L3Gqgm3IF"
      },
      "source": [
        "X = []\n",
        "window = 100\n",
        "for i in range(window,len(Y)):  \n",
        "  X.append(Y[i-window:i])\n",
        "X = numpy.array(X)\n",
        "X = X.reshape((X.shape[0],window,1))"
      ],
      "execution_count": null,
      "outputs": []
    },
    {
      "cell_type": "code",
      "metadata": {
        "id": "fNTdHKzmm3IN",
        "colab": {
          "base_uri": "https://localhost:8080/",
          "height": 34
        },
        "outputId": "0b909024-0fcf-4ab2-d256-3cf1262fc314"
      },
      "source": [
        "print(day.shape,loct.shape,hour.shape,minute.shape,timeProb.shape,locProb.shape,Y.shape,X.shape)"
      ],
      "execution_count": null,
      "outputs": [
        {
          "output_type": "stream",
          "text": [
            "(21120, 7) (21120, 11) (21120,) (21120,) (21120,) (21120,) (21120,) (21020, 100, 1)\n"
          ],
          "name": "stdout"
        }
      ]
    },
    {
      "cell_type": "code",
      "metadata": {
        "id": "9lSuKpaYm3IW"
      },
      "source": [
        "endT = 15000\n",
        "endV = 18000\n",
        "endTe = -1\n",
        "trainX = [day[window:endT],loct[window:endT],hour[window:endT],minute[window:endT],X[:endT-window]]\n",
        "trainY = Y[window:endT]\n",
        "valX = [day[endT:endV],loct[endT:endV],hour[endT:endV],minute[endT:endV],X[endT-window:endV-window]]\n",
        "valY = Y[endT:endV]\n",
        "testX = [day[endV:endTe],loct[endV:endTe],hour[endV:endTe],minute[endV:endTe],X[endV-window:endTe]]\n",
        "testY = Y[endV:endTe]\n",
        "\n",
        "testXA = [day[endV:endTe],loct[endV:endTe],hour[endV:endTe],minute[endV:endTe],YP[endV:endTe]]\n",
        "YS = YSet[endV:endTe]"
      ],
      "execution_count": null,
      "outputs": []
    },
    {
      "cell_type": "code",
      "metadata": {
        "id": "J7wBfGUEm3Ic",
        "colab": {
          "base_uri": "https://localhost:8080/",
          "height": 101
        },
        "outputId": "6e77c2fd-562d-418b-d1c5-9229604c29bf"
      },
      "source": [
        "print(trainX[0].shape,trainX[1].shape,trainX[2].shape,trainX[3].shape,trainX[4].shape)\n",
        "print(valX[0].shape,valX[1].shape,valX[2].shape,valX[3].shape,valX[4].shape)\n",
        "print(testX[0].shape,testX[1].shape,testX[2].shape,testX[3].shape,testX[4].shape)\n",
        "print(testXA[0].shape,testXA[1].shape,testXA[2].shape,testXA[3].shape,testXA[4].shape)\n",
        "print(trainY.shape,valY.shape,testY.shape)"
      ],
      "execution_count": null,
      "outputs": [
        {
          "output_type": "stream",
          "text": [
            "(14900, 7) (14900, 11) (14900,) (14900,) (14900, 100, 1)\n",
            "(3000, 7) (3000, 11) (3000,) (3000,) (3000, 100, 1)\n",
            "(3119, 7) (3119, 11) (3119,) (3119,) (3119, 100, 1)\n",
            "(3119, 7) (3119, 11) (3119,) (3119,) (3119, 15)\n",
            "(14900,) (3000,) (3119,)\n"
          ],
          "name": "stdout"
        }
      ]
    },
    {
      "cell_type": "code",
      "metadata": {
        "id": "7deMi0njm3Ij"
      },
      "source": [
        "Days = Input(shape=(7,))\n",
        "Locts = Input(shape=(11,))\n",
        "Hours = Input(shape=(1,))\n",
        "Minutes = Input(shape=(1,))\n",
        "# TProb = Input(shape=(1,))\n",
        "# LProb = Input(shape=(1,))\n",
        "LSTMI = Input(shape=(window,1))\n",
        "\n",
        "Day = Dense(8, activation=\"relu\", input_shape=(7,))(Days)\n",
        "\n",
        "Loct = Dense(8, activation=\"relu\", input_shape=(11,))(Locts)\n",
        "\n",
        "Hour = Dense(8, activation=\"relu\", input_shape=(1,))(Hours)\n",
        "Minute = Dense(8, activation=\"relu\", input_shape=(1,))(Minutes)\n",
        "Time = concatenate([Hour, Minute])\n",
        "Time = Dense(8, activation=\"relu\")(Time)\n",
        "\n",
        "com = concatenate([Day, Loct, Time])\n",
        "yD = Dense(1, activation=\"relu\")(com)\n",
        "\n",
        "lstmy = LSTM(1)(LSTMI)\n",
        "lstmy = Dense(1,activation='relu')(lstmy)\n",
        "\n",
        "y = concatenate([yD,lstmy])\n",
        "y = Dense(1, activation=\"sigmoid\")(y)\n",
        "\n",
        "model = Model(inputs=[Days, Locts, Hours, Minutes, LSTMI], outputs=y)\n",
        "opt = Adam(lr=0.0005)\n",
        "model.compile(loss=\"binary_crossentropy\", optimizer=opt, metrics=[\"accuracy\"])"
      ],
      "execution_count": null,
      "outputs": []
    },
    {
      "cell_type": "code",
      "metadata": {
        "id": "sDhL7bC7m3Io"
      },
      "source": [
        "weight = numpy.count_nonzero(trainY==0)/numpy.count_nonzero(trainY==1)"
      ],
      "execution_count": null,
      "outputs": []
    },
    {
      "cell_type": "code",
      "metadata": {
        "id": "l7ICNZFpm3It"
      },
      "source": [
        "mc = ModelCheckpoint('Best_Model1.h5', monitor='val_loss', mode='min', verbose=0, save_best_only=True)\n",
        "history = model.fit(\n",
        "    trainX, trainY, validation_data=(valX, valY), batch_size=64,\n",
        "    epochs=40, callbacks=[mc], verbose=0, class_weight={0:1,1:weight})"
      ],
      "execution_count": null,
      "outputs": []
    },
    {
      "cell_type": "code",
      "metadata": {
        "id": "KhsaE1him3Iy",
        "colab": {
          "base_uri": "https://localhost:8080/",
          "height": 168
        },
        "outputId": "bc7b022a-28d8-4703-db04-8af66f18998c"
      },
      "source": [
        "model = load_model(\"Best_Model1.h5\")\n",
        "Ypred = model.predict(testX)\n",
        "print(classification_report(testY,Ypred.round()))"
      ],
      "execution_count": null,
      "outputs": [
        {
          "output_type": "stream",
          "text": [
            "              precision    recall  f1-score   support\n",
            "\n",
            "           0       0.88      0.69      0.77      2193\n",
            "           1       0.51      0.78      0.62       926\n",
            "\n",
            "    accuracy                           0.71      3119\n",
            "   macro avg       0.70      0.73      0.70      3119\n",
            "weighted avg       0.77      0.71      0.73      3119\n",
            "\n"
          ],
          "name": "stdout"
        }
      ]
    },
    {
      "cell_type": "code",
      "metadata": {
        "id": "2QVnaAoQnG29"
      },
      "source": [
        ""
      ],
      "execution_count": null,
      "outputs": []
    }
  ]
}